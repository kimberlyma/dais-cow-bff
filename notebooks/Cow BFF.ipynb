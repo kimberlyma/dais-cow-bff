{
 "cells": [
  {
   "cell_type": "markdown",
   "metadata": {
    "application/vnd.databricks.v1+cell": {
     "cellMetadata": {},
     "inputWidgets": {},
     "nuid": "1150ad03-d27d-41cd-9d3e-5d717b80a08e",
     "showTitle": false,
     "title": ""
    }
   },
   "source": [
    "## First we install Python packages and initialize our globals"
   ]
  },
  {
   "cell_type": "code",
   "execution_count": 0,
   "metadata": {
    "application/vnd.databricks.v1+cell": {
     "cellMetadata": {
      "byteLimit": 2048000,
      "rowLimit": 10000
     },
     "inputWidgets": {},
     "nuid": "0c501fb4-02b4-4952-b6a3-1ec355722065",
     "showTitle": false,
     "title": ""
    },
    "jupyter": {
     "outputs_hidden": true
    }
   },
   "outputs": [
    {
     "output_type": "stream",
     "name": "stdout",
     "output_type": "stream",
     "text": [
      "\u001B[43mNote: you may need to restart the kernel using dbutils.library.restartPython() to use updated packages.\u001B[0m\nRequirement already satisfied: ipykernel in /databricks/python3/lib/python3.11/site-packages (from -r ../requirements.txt (line 1)) (6.25.1)\nCollecting pytest\n  Downloading pytest-8.2.1-py3-none-any.whl (339 kB)\n\u001B[?25l     \u001B[90m━━━━━━━━━━━━━━━━━━━━━━━━━━━━━━━━━━━━━━━━\u001B[0m \u001B[32m0.0/339.6 kB\u001B[0m \u001B[31m?\u001B[0m eta \u001B[36m-:--:--\u001B[0m\n\u001B[2K     \u001B[91m━━━━━━━━━━━━━━━━\u001B[0m\u001B[90m╺\u001B[0m\u001B[90m━━━━━━━━━━━━━━━━━━━━━━\u001B[0m \u001B[32m143.4/339.6 kB\u001B[0m \u001B[31m4.6 MB/s\u001B[0m eta \u001B[36m0:00:01\u001B[0m\n\u001B[2K     \u001B[90m━━━━━━━━━━━━━━━━━━━━━━━━━━━━━━━━━━━━━━━\u001B[0m \u001B[32m339.6/339.6 kB\u001B[0m \u001B[31m5.9 MB/s\u001B[0m eta \u001B[36m0:00:00\u001B[0m\n\u001B[?25hRequirement already satisfied: plotly in /databricks/python3/lib/python3.11/site-packages (from -r ../requirements.txt (line 3)) (5.9.0)\nRequirement already satisfied: nbformat in /databricks/python3/lib/python3.11/site-packages (from -r ../requirements.txt (line 4)) (5.7.0)\nCollecting databricks-connect==13.1.0\n  Downloading databricks_connect-13.1.0-py2.py3-none-any.whl (2.0 MB)\n\u001B[?25l     \u001B[90m━━━━━━━━━━━━━━━━━━━━━━━━━━━━━━━━━━━━━━━━\u001B[0m \u001B[32m0.0/2.0 MB\u001B[0m \u001B[31m?\u001B[0m eta \u001B[36m-:--:--\u001B[0m\n\u001B[2K     \u001B[91m━━━━━━━━━━━\u001B[0m\u001B[90m╺\u001B[0m\u001B[90m━━━━━━━━━━━━━━━━━━━━━━━━━━━━\u001B[0m \u001B[32m0.6/2.0 MB\u001B[0m \u001B[31m16.8 MB/s\u001B[0m eta \u001B[36m0:00:01\u001B[0m\n\u001B[2K     \u001B[91m━━━━━━━━━━━━━━━━━━━━━━━━\u001B[0m\u001B[91m╸\u001B[0m\u001B[90m━━━━━━━━━━━━━━━\u001B[0m \u001B[32m1.2/2.0 MB\u001B[0m \u001B[31m17.9 MB/s\u001B[0m eta \u001B[36m0:00:01\u001B[0m\n\u001B[2K     \u001B[91m━━━━━━━━━━━━━━━━━━━━━━━━━━━━━━━━━━━━━━━\u001B[0m\u001B[91m╸\u001B[0m \u001B[32m2.0/2.0 MB\u001B[0m \u001B[31m19.3 MB/s\u001B[0m eta \u001B[36m0:00:01\u001B[0m\n\u001B[2K     \u001B[90m━━━━━━━━━━━━━━━━━━━━━━━━━━━━━━━━━━━━━━━━\u001B[0m \u001B[32m2.0/2.0 MB\u001B[0m \u001B[31m16.7 MB/s\u001B[0m eta \u001B[36m0:00:00\u001B[0m\n\u001B[?25hRequirement already satisfied: pyarrow>=1.0.0 in /databricks/python3/lib/python3.11/site-packages (from databricks-connect==13.1.0->-r ../requirements.txt (line 5)) (14.0.1)\nRequirement already satisfied: six in /usr/lib/python3/dist-packages (from databricks-connect==13.1.0->-r ../requirements.txt (line 5)) (1.16.0)\nRequirement already satisfied: pandas>=1.0.5 in /databricks/python3/lib/python3.11/site-packages (from databricks-connect==13.1.0->-r ../requirements.txt (line 5)) (1.5.3)\nRequirement already satisfied: numpy>=1.15 in /databricks/python3/lib/python3.11/site-packages (from databricks-connect==13.1.0->-r ../requirements.txt (line 5)) (1.23.5)\nCollecting py4j==0.10.9.7\n  Downloading py4j-0.10.9.7-py2.py3-none-any.whl (200 kB)\n\u001B[?25l     \u001B[90m━━━━━━━━━━━━━━━━━━━━━━━━━━━━━━━━━━━━━━━━\u001B[0m \u001B[32m0.0/200.5 kB\u001B[0m \u001B[31m?\u001B[0m eta \u001B[36m-:--:--\u001B[0m\n\u001B[2K     \u001B[90m━━━━━━━━━━━━━━━━━━━━━━━━━━━━━━━━━━━━━━\u001B[0m \u001B[32m200.5/200.5 kB\u001B[0m \u001B[31m22.8 MB/s\u001B[0m eta \u001B[36m0:00:00\u001B[0m\n\u001B[?25hRequirement already satisfied: databricks-sdk>=0.1.2 in /databricks/python3/lib/python3.11/site-packages (from databricks-connect==13.1.0->-r ../requirements.txt (line 5)) (0.20.0)\nRequirement already satisfied: googleapis-common-protos>=1.56.4 in /databricks/python3/lib/python3.11/site-packages (from databricks-connect==13.1.0->-r ../requirements.txt (line 5)) (1.63.0)\nRequirement already satisfied: grpcio>=1.48.1 in /databricks/python3/lib/python3.11/site-packages (from databricks-connect==13.1.0->-r ../requirements.txt (line 5)) (1.60.0)\nRequirement already satisfied: grpcio-status>=1.48.1 in /databricks/python3/lib/python3.11/site-packages (from databricks-connect==13.1.0->-r ../requirements.txt (line 5)) (1.60.0)\nRequirement already satisfied: ipython>=7.23.1 in /databricks/python3/lib/python3.11/site-packages (from ipykernel->-r ../requirements.txt (line 1)) (8.15.0)\nRequirement already satisfied: nest-asyncio in /databricks/python3/lib/python3.11/site-packages (from ipykernel->-r ../requirements.txt (line 1)) (1.5.6)\nRequirement already satisfied: traitlets>=5.4.0 in /databricks/python3/lib/python3.11/site-packages (from ipykernel->-r ../requirements.txt (line 1)) (5.7.1)\nRequirement already satisfied: pyzmq>=20 in /databricks/python3/lib/python3.11/site-packages (from ipykernel->-r ../requirements.txt (line 1)) (23.2.0)\nRequirement already satisfied: matplotlib-inline>=0.1 in /databricks/python3/lib/python3.11/site-packages (from ipykernel->-r ../requirements.txt (line 1)) (0.1.6)\nRequirement already satisfied: debugpy>=1.6.5 in /databricks/python3/lib/python3.11/site-packages (from ipykernel->-r ../requirements.txt (line 1)) (1.6.7)\nRequirement already satisfied: jupyter-client>=6.1.12 in /databricks/python3/lib/python3.11/site-packages (from ipykernel->-r ../requirements.txt (line 1)) (7.4.9)\nRequirement already satisfied: packaging in /databricks/python3/lib/python3.11/site-packages (from ipykernel->-r ../requirements.txt (line 1)) (23.2)\nRequirement already satisfied: tornado>=6.1 in /databricks/python3/lib/python3.11/site-packages (from ipykernel->-r ../requirements.txt (line 1)) (6.3.2)\nRequirement already satisfied: comm>=0.1.1 in /databricks/python3/lib/python3.11/site-packages (from ipykernel->-r ../requirements.txt (line 1)) (0.1.2)\nRequirement already satisfied: psutil in /databricks/python3/lib/python3.11/site-packages (from ipykernel->-r ../requirements.txt (line 1)) (5.9.0)\nRequirement already satisfied: jupyter-core!=5.0.*,>=4.12 in /databricks/python3/lib/python3.11/site-packages (from ipykernel->-r ../requirements.txt (line 1)) (5.3.0)\nCollecting iniconfig\n  Downloading iniconfig-2.0.0-py3-none-any.whl (5.9 kB)\nCollecting pluggy<2.0,>=1.5\n  Downloading pluggy-1.5.0-py3-none-any.whl (20 kB)\nRequirement already satisfied: tenacity>=6.2.0 in /databricks/python3/lib/python3.11/site-packages (from plotly->-r ../requirements.txt (line 3)) (8.2.2)\nRequirement already satisfied: jsonschema>=2.6 in /databricks/python3/lib/python3.11/site-packages (from nbformat->-r ../requirements.txt (line 4)) (4.17.3)\nRequirement already satisfied: fastjsonschema in /databricks/python3/lib/python3.11/site-packages (from nbformat->-r ../requirements.txt (line 4)) (2.19.1)\nRequirement already satisfied: requests<3,>=2.28.1 in /databricks/python3/lib/python3.11/site-packages (from databricks-sdk>=0.1.2->databricks-connect==13.1.0->-r ../requirements.txt (line 5)) (2.31.0)\nRequirement already satisfied: google-auth~=2.0 in /databricks/python3/lib/python3.11/site-packages (from databricks-sdk>=0.1.2->databricks-connect==13.1.0->-r ../requirements.txt (line 5)) (2.21.0)\nRequirement already satisfied: protobuf!=3.20.0,!=3.20.1,!=4.21.1,!=4.21.2,!=4.21.3,!=4.21.4,!=4.21.5,<5.0.0.dev0,>=3.19.5 in /databricks/python3/lib/python3.11/site-packages (from googleapis-common-protos>=1.56.4->databricks-connect==13.1.0->-r ../requirements.txt (line 5)) (4.24.1)\nRequirement already satisfied: pickleshare in /databricks/python3/lib/python3.11/site-packages (from ipython>=7.23.1->ipykernel->-r ../requirements.txt (line 1)) (0.7.5)\nRequirement already satisfied: pygments>=2.4.0 in /databricks/python3/lib/python3.11/site-packages (from ipython>=7.23.1->ipykernel->-r ../requirements.txt (line 1)) (2.15.1)\nRequirement already satisfied: decorator in /databricks/python3/lib/python3.11/site-packages (from ipython>=7.23.1->ipykernel->-r ../requirements.txt (line 1)) (5.1.1)\nRequirement already satisfied: backcall in /databricks/python3/lib/python3.11/site-packages (from ipython>=7.23.1->ipykernel->-r ../requirements.txt (line 1)) (0.2.0)\nRequirement already satisfied: prompt-toolkit!=3.0.37,<3.1.0,>=3.0.30 in /databricks/python3/lib/python3.11/site-packages (from ipython>=7.23.1->ipykernel->-r ../requirements.txt (line 1)) (3.0.36)\nRequirement already satisfied: pexpect>4.3 in /databricks/python3/lib/python3.11/site-packages (from ipython>=7.23.1->ipykernel->-r ../requirements.txt (line 1)) (4.8.0)\nRequirement already satisfied: stack-data in /databricks/python3/lib/python3.11/site-packages (from ipython>=7.23.1->ipykernel->-r ../requirements.txt (line 1)) (0.2.0)\nRequirement already satisfied: jedi>=0.16 in /databricks/python3/lib/python3.11/site-packages (from ipython>=7.23.1->ipykernel->-r ../requirements.txt (line 1)) (0.18.1)\nRequirement already satisfied: attrs>=17.4.0 in /databricks/python3/lib/python3.11/site-packages (from jsonschema>=2.6->nbformat->-r ../requirements.txt (line 4)) (22.1.0)\nRequirement already satisfied: pyrsistent!=0.17.0,!=0.17.1,!=0.17.2,>=0.14.0 in /databricks/python3/lib/python3.11/site-packages (from jsonschema>=2.6->nbformat->-r ../requirements.txt (line 4)) (0.18.0)\nRequirement already satisfied: python-dateutil>=2.8.2 in /databricks/python3/lib/python3.11/site-packages (from jupyter-client>=6.1.12->ipykernel->-r ../requirements.txt (line 1)) (2.8.2)\nRequirement already satisfied: entrypoints in /databricks/python3/lib/python3.11/site-packages (from jupyter-client>=6.1.12->ipykernel->-r ../requirements.txt (line 1)) (0.4)\nRequirement already satisfied: platformdirs>=2.5 in /databricks/python3/lib/python3.11/site-packages (from jupyter-core!=5.0.*,>=4.12->ipykernel->-r ../requirements.txt (line 1)) (3.10.0)\nRequirement already satisfied: pytz>=2020.1 in /databricks/python3/lib/python3.11/site-packages (from pandas>=1.0.5->databricks-connect==13.1.0->-r ../requirements.txt (line 5)) (2022.7)\nRequirement already satisfied: pyasn1-modules>=0.2.1 in /databricks/python3/lib/python3.11/site-packages (from google-auth~=2.0->databricks-sdk>=0.1.2->databricks-connect==13.1.0->-r ../requirements.txt (line 5)) (0.2.8)\nRequirement already satisfied: cachetools<6.0,>=2.0.0 in /databricks/python3/lib/python3.11/site-packages (from google-auth~=2.0->databricks-sdk>=0.1.2->databricks-connect==13.1.0->-r ../requirements.txt (line 5)) (5.3.3)\nRequirement already satisfied: urllib3<2.0 in /databricks/python3/lib/python3.11/site-packages (from google-auth~=2.0->databricks-sdk>=0.1.2->databricks-connect==13.1.0->-r ../requirements.txt (line 5)) (1.26.16)\nRequirement already satisfied: rsa<5,>=3.1.4 in /databricks/python3/lib/python3.11/site-packages (from google-auth~=2.0->databricks-sdk>=0.1.2->databricks-connect==13.1.0->-r ../requirements.txt (line 5)) (4.9)\nRequirement already satisfied: parso<0.9.0,>=0.8.0 in /databricks/python3/lib/python3.11/site-packages (from jedi>=0.16->ipython>=7.23.1->ipykernel->-r ../requirements.txt (line 1)) (0.8.3)\nRequirement already satisfied: ptyprocess>=0.5 in /databricks/python3/lib/python3.11/site-packages (from pexpect>4.3->ipython>=7.23.1->ipykernel->-r ../requirements.txt (line 1)) (0.7.0)\nRequirement already satisfied: wcwidth in /databricks/python3/lib/python3.11/site-packages (from prompt-toolkit!=3.0.37,<3.1.0,>=3.0.30->ipython>=7.23.1->ipykernel->-r ../requirements.txt (line 1)) (0.2.5)\nRequirement already satisfied: idna<4,>=2.5 in /databricks/python3/lib/python3.11/site-packages (from requests<3,>=2.28.1->databricks-sdk>=0.1.2->databricks-connect==13.1.0->-r ../requirements.txt (line 5)) (3.4)\nRequirement already satisfied: certifi>=2017.4.17 in /databricks/python3/lib/python3.11/site-packages (from requests<3,>=2.28.1->databricks-sdk>=0.1.2->databricks-connect==13.1.0->-r ../requirements.txt (line 5)) (2023.7.22)\nRequirement already satisfied: charset-normalizer<4,>=2 in /databricks/python3/lib/python3.11/site-packages (from requests<3,>=2.28.1->databricks-sdk>=0.1.2->databricks-connect==13.1.0->-r ../requirements.txt (line 5)) (2.0.4)\nRequirement already satisfied: asttokens in /databricks/python3/lib/python3.11/site-packages (from stack-data->ipython>=7.23.1->ipykernel->-r ../requirements.txt (line 1)) (2.0.5)\nRequirement already satisfied: pure-eval in /databricks/python3/lib/python3.11/site-packages (from stack-data->ipython>=7.23.1->ipykernel->-r ../requirements.txt (line 1)) (0.2.2)\nRequirement already satisfied: executing in /databricks/python3/lib/python3.11/site-packages (from stack-data->ipython>=7.23.1->ipykernel->-r ../requirements.txt (line 1)) (0.8.3)\nRequirement already satisfied: pyasn1<0.5.0,>=0.4.6 in /databricks/python3/lib/python3.11/site-packages (from pyasn1-modules>=0.2.1->google-auth~=2.0->databricks-sdk>=0.1.2->databricks-connect==13.1.0->-r ../requirements.txt (line 5)) (0.4.8)\nInstalling collected packages: py4j, pluggy, iniconfig, pytest, databricks-connect\nSuccessfully installed databricks-connect-13.1.0 iniconfig-2.0.0 pluggy-1.5.0 py4j-0.10.9.7 pytest-8.2.1\n\u001B[43mNote: you may need to restart the kernel using dbutils.library.restartPython() to use updated packages.\u001B[0m\n"
     ]
    }
   ],
   "source": [
    "%pip install -r ../requirements.txt"
   ]
  },
  {
   "cell_type": "code",
   "execution_count": 0,
   "metadata": {
    "application/vnd.databricks.v1+cell": {
     "cellMetadata": {
      "byteLimit": 2048000,
      "rowLimit": 10000
     },
     "inputWidgets": {},
     "nuid": "db31f2e5-6f73-4b4a-9735-48e5fb1a4cea",
     "showTitle": false,
     "title": ""
    }
   },
   "outputs": [],
   "source": [
    "# load table into spark dataframe\n",
    "cows_bff = spark.read.table(\"db.cows_bff\")"
   ]
  },
  {
   "cell_type": "markdown",
   "metadata": {
    "application/vnd.databricks.v1+cell": {
     "cellMetadata": {},
     "inputWidgets": {},
     "nuid": "e077744e-aee4-462b-b53c-d34955da8e92",
     "showTitle": false,
     "title": ""
    }
   },
   "source": [
    "## Some graphs and charts"
   ]
  },
  {
   "cell_type": "code",
   "execution_count": 0,
   "metadata": {
    "application/vnd.databricks.v1+cell": {
     "cellMetadata": {
      "byteLimit": 2048000,
      "rowLimit": 10000
     },
     "inputWidgets": {},
     "nuid": "eafa5b74-fd93-418e-a855-c20aecd86ec0",
     "showTitle": false,
     "title": ""
    }
   },
   "outputs": [
    {
     "output_type": "display_data",
     "data": {
      "text/html": [
       "<style scoped>\n",
       "  .table-result-container {\n",
       "    max-height: 300px;\n",
       "    overflow: auto;\n",
       "  }\n",
       "  table, th, td {\n",
       "    border: 1px solid black;\n",
       "    border-collapse: collapse;\n",
       "  }\n",
       "  th, td {\n",
       "    padding: 5px;\n",
       "  }\n",
       "  th {\n",
       "    text-align: left;\n",
       "  }\n",
       "</style><div class='table-result-container'><table class='table-result'><thead style='background-color: white'><tr><th>cow_name</th><th>meal_start</th><th>meal_end</th><th>meal_start_time</th><th>meal_end_time</th><th>duration</th><th>date</th><th>day</th></tr></thead><tbody><tr><td>Butterscotch</td><td>32463</td><td>33042</td><td>9:01:03</td><td>9:10:42</td><td>579</td><td>2023-05-20T00:00:00Z</td><td>Saturday</td></tr><tr><td>Hershey</td><td>31916</td><td>34307</td><td>8:51:56</td><td>9:31:47</td><td>2391</td><td>2023-05-20T00:00:00Z</td><td>Saturday</td></tr><tr><td>Mocha</td><td>32519</td><td>34494</td><td>9:01:59</td><td>9:34:54</td><td>1975</td><td>2023-05-20T00:00:00Z</td><td>Saturday</td></tr><tr><td>Cocoa</td><td>32519</td><td>34494</td><td>9:01:59</td><td>9:34:54</td><td>1975</td><td>2023-05-20T00:00:00Z</td><td>Saturday</td></tr><tr><td>Nutella</td><td>32304</td><td>34452</td><td>8:58:24</td><td>9:34:12</td><td>2148</td><td>2023-05-20T00:00:00Z</td><td>Saturday</td></tr><tr><td>Brandy</td><td>34521</td><td>34756</td><td>9:35:21</td><td>9:39:16</td><td>235</td><td>2023-05-20T00:00:00Z</td><td>Saturday</td></tr><tr><td>Peaches</td><td>32060</td><td>32960</td><td>8:54:20</td><td>9:09:20</td><td>900</td><td>2023-05-20T00:00:00Z</td><td>Saturday</td></tr><tr><td>Marshmallow</td><td>31971</td><td>34139</td><td>8:52:51</td><td>9:28:59</td><td>2168</td><td>2023-05-20T00:00:00Z</td><td>Saturday</td></tr><tr><td>Popcorn</td><td>32256</td><td>33322</td><td>8:57:36</td><td>9:15:22</td><td>1066</td><td>2023-05-20T00:00:00Z</td><td>Saturday</td></tr><tr><td>Muffin</td><td>33552</td><td>33848</td><td>9:19:12</td><td>9:24:08</td><td>296</td><td>2023-05-20T00:00:00Z</td><td>Saturday</td></tr></tbody></table></div>"
      ]
     },
     "metadata": {
      "application/vnd.databricks.v1+output": {
       "addedWidgets": {},
       "aggData": [],
       "aggError": "",
       "aggOverflow": false,
       "aggSchema": [],
       "aggSeriesLimitReached": false,
       "aggType": "",
       "arguments": {},
       "columnCustomDisplayInfos": {},
       "data": [
        [
         "Butterscotch",
         32463,
         33042,
         "9:01:03",
         "9:10:42",
         579,
         "2023-05-20T00:00:00Z",
         "Saturday"
        ],
        [
         "Hershey",
         31916,
         34307,
         "8:51:56",
         "9:31:47",
         2391,
         "2023-05-20T00:00:00Z",
         "Saturday"
        ],
        [
         "Mocha",
         32519,
         34494,
         "9:01:59",
         "9:34:54",
         1975,
         "2023-05-20T00:00:00Z",
         "Saturday"
        ],
        [
         "Cocoa",
         32519,
         34494,
         "9:01:59",
         "9:34:54",
         1975,
         "2023-05-20T00:00:00Z",
         "Saturday"
        ],
        [
         "Nutella",
         32304,
         34452,
         "8:58:24",
         "9:34:12",
         2148,
         "2023-05-20T00:00:00Z",
         "Saturday"
        ],
        [
         "Brandy",
         34521,
         34756,
         "9:35:21",
         "9:39:16",
         235,
         "2023-05-20T00:00:00Z",
         "Saturday"
        ],
        [
         "Peaches",
         32060,
         32960,
         "8:54:20",
         "9:09:20",
         900,
         "2023-05-20T00:00:00Z",
         "Saturday"
        ],
        [
         "Marshmallow",
         31971,
         34139,
         "8:52:51",
         "9:28:59",
         2168,
         "2023-05-20T00:00:00Z",
         "Saturday"
        ],
        [
         "Popcorn",
         32256,
         33322,
         "8:57:36",
         "9:15:22",
         1066,
         "2023-05-20T00:00:00Z",
         "Saturday"
        ],
        [
         "Muffin",
         33552,
         33848,
         "9:19:12",
         "9:24:08",
         296,
         "2023-05-20T00:00:00Z",
         "Saturday"
        ]
       ],
       "datasetInfos": [],
       "dbfsResultPath": null,
       "isJsonSchema": true,
       "metadata": {},
       "overflow": false,
       "plotOptions": {
        "customPlotOptions": {},
        "displayType": "table",
        "pivotAggregation": null,
        "pivotColumns": null,
        "xColumns": null,
        "yColumns": null
       },
       "removedWidgets": [],
       "schema": [
        {
         "metadata": "{}",
         "name": "cow_name",
         "type": "\"string\""
        },
        {
         "metadata": "{}",
         "name": "meal_start",
         "type": "\"long\""
        },
        {
         "metadata": "{}",
         "name": "meal_end",
         "type": "\"long\""
        },
        {
         "metadata": "{}",
         "name": "meal_start_time",
         "type": "\"string\""
        },
        {
         "metadata": "{}",
         "name": "meal_end_time",
         "type": "\"string\""
        },
        {
         "metadata": "{}",
         "name": "duration",
         "type": "\"long\""
        },
        {
         "metadata": "{}",
         "name": "date",
         "type": "\"timestamp\""
        },
        {
         "metadata": "{}",
         "name": "day",
         "type": "\"string\""
        }
       ],
       "type": "table"
      }
     },
     "output_type": "display_data"
    }
   ],
   "source": [
    "display(cows_bff.limit(10))"
   ]
  },
  {
   "cell_type": "markdown",
   "metadata": {
    "application/vnd.databricks.v1+cell": {
     "cellMetadata": {},
     "inputWidgets": {},
     "nuid": "a06f52cf-3601-4fa5-8041-bd1df249f2be",
     "showTitle": false,
     "title": ""
    }
   },
   "source": [
    "## Lets compute meal overlap"
   ]
  },
  {
   "cell_type": "code",
   "execution_count": 0,
   "metadata": {
    "application/vnd.databricks.v1+cell": {
     "cellMetadata": {
      "byteLimit": 2048000,
      "rowLimit": 10000
     },
     "inputWidgets": {},
     "nuid": "491d6585-53eb-43a7-a5c1-2484e2707615",
     "showTitle": false,
     "title": ""
    }
   },
   "outputs": [
    {
     "output_type": "display_data",
     "data": {
      "text/plain": [
       "com.databricks.backend.common.rpc.CommandCancelledException\n",
       "\tat com.databricks.spark.chauffeur.SequenceExecutionState.$anonfun$cancel$3(SequenceExecutionState.scala:103)\n",
       "\tat scala.Option.getOrElse(Option.scala:189)\n",
       "\tat com.databricks.spark.chauffeur.SequenceExecutionState.$anonfun$cancel$2(SequenceExecutionState.scala:103)\n",
       "\tat com.databricks.spark.chauffeur.SequenceExecutionState.$anonfun$cancel$2$adapted(SequenceExecutionState.scala:100)\n",
       "\tat scala.collection.immutable.Range.foreach(Range.scala:158)\n",
       "\tat com.databricks.spark.chauffeur.SequenceExecutionState.cancel(SequenceExecutionState.scala:100)\n",
       "\tat com.databricks.spark.chauffeur.ExecContextState.cancelRunningSequence(ExecContextState.scala:714)\n",
       "\tat com.databricks.spark.chauffeur.ExecContextState.$anonfun$cancel$1(ExecContextState.scala:430)\n",
       "\tat scala.Option.getOrElse(Option.scala:189)\n",
       "\tat com.databricks.spark.chauffeur.ExecContextState.cancel(ExecContextState.scala:430)\n",
       "\tat com.databricks.spark.chauffeur.ChauffeurState.cancelExecution(ChauffeurState.scala:1225)\n",
       "\tat com.databricks.spark.chauffeur.ChauffeurState.$anonfun$process$1(ChauffeurState.scala:958)\n",
       "\tat com.databricks.logging.UsageLogging.$anonfun$recordOperation$1(UsageLogging.scala:582)\n",
       "\tat com.databricks.logging.UsageLogging.executeThunkAndCaptureResultTags$1(UsageLogging.scala:685)\n",
       "\tat com.databricks.logging.UsageLogging.$anonfun$recordOperationWithResultTags$4(UsageLogging.scala:703)\n",
       "\tat com.databricks.logging.UsageLogging.$anonfun$withAttributionContext$1(UsageLogging.scala:435)\n",
       "\tat scala.util.DynamicVariable.withValue(DynamicVariable.scala:62)\n",
       "\tat com.databricks.logging.AttributionContext$.withValue(AttributionContext.scala:216)\n",
       "\tat com.databricks.logging.UsageLogging.withAttributionContext(UsageLogging.scala:433)\n",
       "\tat com.databricks.logging.UsageLogging.withAttributionContext$(UsageLogging.scala:427)\n",
       "\tat com.databricks.spark.chauffeur.ChauffeurState.withAttributionContext(ChauffeurState.scala:67)\n",
       "\tat com.databricks.logging.UsageLogging.withAttributionTags(UsageLogging.scala:481)\n",
       "\tat com.databricks.logging.UsageLogging.withAttributionTags$(UsageLogging.scala:464)\n",
       "\tat com.databricks.spark.chauffeur.ChauffeurState.withAttributionTags(ChauffeurState.scala:67)\n",
       "\tat com.databricks.logging.UsageLogging.recordOperationWithResultTags(UsageLogging.scala:680)\n",
       "\tat com.databricks.logging.UsageLogging.recordOperationWithResultTags$(UsageLogging.scala:591)\n",
       "\tat com.databricks.spark.chauffeur.ChauffeurState.recordOperationWithResultTags(ChauffeurState.scala:67)\n",
       "\tat com.databricks.logging.UsageLogging.recordOperation(UsageLogging.scala:582)\n",
       "\tat com.databricks.logging.UsageLogging.recordOperation$(UsageLogging.scala:551)\n",
       "\tat com.databricks.spark.chauffeur.ChauffeurState.recordOperation(ChauffeurState.scala:67)\n",
       "\tat com.databricks.spark.chauffeur.ChauffeurState.process(ChauffeurState.scala:915)\n",
       "\tat com.databricks.spark.chauffeur.Chauffeur$$anon$1$$anonfun$receive$1.handleDriverRequest$1(Chauffeur.scala:681)\n",
       "\tat com.databricks.spark.chauffeur.Chauffeur$$anon$1$$anonfun$receive$1.$anonfun$applyOrElse$5(Chauffeur.scala:707)\n",
       "\tat com.databricks.logging.UsageLogging.executeThunkAndCaptureResultTags$1(UsageLogging.scala:685)\n",
       "\tat com.databricks.logging.UsageLogging.$anonfun$recordOperationWithResultTags$4(UsageLogging.scala:703)\n",
       "\tat com.databricks.logging.UsageLogging.$anonfun$withAttributionContext$1(UsageLogging.scala:435)\n",
       "\tat scala.util.DynamicVariable.withValue(DynamicVariable.scala:62)\n",
       "\tat com.databricks.logging.AttributionContext$.withValue(AttributionContext.scala:216)\n",
       "\tat com.databricks.logging.UsageLogging.withAttributionContext(UsageLogging.scala:433)\n",
       "\tat com.databricks.logging.UsageLogging.withAttributionContext$(UsageLogging.scala:427)\n",
       "\tat com.databricks.rpc.ServerBackend.withAttributionContext(ServerBackend.scala:22)\n",
       "\tat com.databricks.logging.UsageLogging.withAttributionTags(UsageLogging.scala:481)\n",
       "\tat com.databricks.logging.UsageLogging.withAttributionTags$(UsageLogging.scala:464)\n",
       "\tat com.databricks.rpc.ServerBackend.withAttributionTags(ServerBackend.scala:22)\n",
       "\tat com.databricks.logging.UsageLogging.recordOperationWithResultTags(UsageLogging.scala:680)\n",
       "\tat com.databricks.logging.UsageLogging.recordOperationWithResultTags$(UsageLogging.scala:591)\n",
       "\tat com.databricks.rpc.ServerBackend.recordOperationWithResultTags(ServerBackend.scala:22)\n",
       "\tat com.databricks.spark.chauffeur.Chauffeur$$anon$1$$anonfun$receive$1.handleDriverRequestWithUsageLogging$1(Chauffeur.scala:706)\n",
       "\tat com.databricks.spark.chauffeur.Chauffeur$$anon$1$$anonfun$receive$1.applyOrElse(Chauffeur.scala:761)\n",
       "\tat com.databricks.spark.chauffeur.Chauffeur$$anon$1$$anonfun$receive$1.applyOrElse(Chauffeur.scala:554)\n",
       "\tat com.databricks.rpc.ServerBackend.$anonfun$internalReceive0$2(ServerBackend.scala:174)\n",
       "\tat com.databricks.rpc.ServerBackend$$anonfun$commonReceive$1.applyOrElse(ServerBackend.scala:200)\n",
       "\tat com.databricks.rpc.ServerBackend$$anonfun$commonReceive$1.applyOrElse(ServerBackend.scala:200)\n",
       "\tat com.databricks.rpc.ServerBackend.internalReceive0(ServerBackend.scala:171)\n",
       "\tat com.databricks.rpc.ServerBackend.$anonfun$internalReceive$1(ServerBackend.scala:147)\n",
       "\tat com.databricks.logging.UsageLogging.$anonfun$recordOperation$1(UsageLogging.scala:582)\n",
       "\tat com.databricks.logging.UsageLogging.executeThunkAndCaptureResultTags$1(UsageLogging.scala:685)\n",
       "\tat com.databricks.logging.UsageLogging.$anonfun$recordOperationWithResultTags$4(UsageLogging.scala:703)\n",
       "\tat com.databricks.logging.UsageLogging.$anonfun$withAttributionContext$1(UsageLogging.scala:435)\n",
       "\tat scala.util.DynamicVariable.withValue(DynamicVariable.scala:62)\n",
       "\tat com.databricks.logging.AttributionContext$.withValue(AttributionContext.scala:216)\n",
       "\tat com.databricks.logging.UsageLogging.withAttributionContext(UsageLogging.scala:433)\n",
       "\tat com.databricks.logging.UsageLogging.withAttributionContext$(UsageLogging.scala:427)\n",
       "\tat com.databricks.rpc.ServerBackend.withAttributionContext(ServerBackend.scala:22)\n",
       "\tat com.databricks.logging.UsageLogging.withAttributionTags(UsageLogging.scala:481)\n",
       "\tat com.databricks.logging.UsageLogging.withAttributionTags$(UsageLogging.scala:464)\n",
       "\tat com.databricks.rpc.ServerBackend.withAttributionTags(ServerBackend.scala:22)\n",
       "\tat com.databricks.logging.UsageLogging.recordOperationWithResultTags(UsageLogging.scala:680)\n",
       "\tat com.databricks.logging.UsageLogging.recordOperationWithResultTags$(UsageLogging.scala:591)\n",
       "\tat com.databricks.rpc.ServerBackend.recordOperationWithResultTags(ServerBackend.scala:22)\n",
       "\tat com.databricks.logging.UsageLogging.recordOperation(UsageLogging.scala:582)\n",
       "\tat com.databricks.logging.UsageLogging.recordOperation$(UsageLogging.scala:551)\n",
       "\tat com.databricks.rpc.ServerBackend.recordOperation(ServerBackend.scala:22)\n",
       "\tat com.databricks.rpc.ServerBackend.internalReceive(ServerBackend.scala:147)\n",
       "\tat com.databricks.rpc.JettyServer$RequestManager.handleRPC(JettyServer.scala:1021)\n",
       "\tat com.databricks.rpc.JettyServer$RequestManager.handleRequestAndRespond(JettyServer.scala:942)\n",
       "\tat com.databricks.rpc.JettyServer$RequestManager.$anonfun$handleHttp$6(JettyServer.scala:546)\n",
       "\tat com.databricks.rpc.JettyServer$RequestManager.$anonfun$handleHttp$6$adapted(JettyServer.scala:515)\n",
       "\tat com.databricks.logging.activity.ActivityContextFactory$.$anonfun$withActivityInternal$4(ActivityContextFactory.scala:483)\n",
       "\tat com.databricks.logging.UsageLogging.$anonfun$withAttributionContext$1(UsageLogging.scala:435)\n",
       "\tat scala.util.DynamicVariable.withValue(DynamicVariable.scala:62)\n",
       "\tat com.databricks.logging.AttributionContext$.withValue(AttributionContext.scala:216)\n",
       "\tat com.databricks.logging.UsageLogging.withAttributionContext(UsageLogging.scala:433)\n",
       "\tat com.databricks.logging.UsageLogging.withAttributionContext$(UsageLogging.scala:427)\n",
       "\tat com.databricks.logging.activity.ActivityContextFactory$.withAttributionContext(ActivityContextFactory.scala:58)\n",
       "\tat com.databricks.logging.activity.ActivityContextFactory$.$anonfun$withActivityInternal$1(ActivityContextFactory.scala:483)\n",
       "\tat com.databricks.context.integrity.IntegrityCheckContext$ThreadLocalStorage$.withValue(IntegrityCheckContext.scala:75)\n",
       "\tat com.databricks.logging.activity.ActivityContextFactory$.withActivityInternal(ActivityContextFactory.scala:458)\n",
       "\tat com.databricks.logging.activity.ActivityContextFactory$.withServiceRequestActivity(ActivityContextFactory.scala:160)\n",
       "\tat com.databricks.rpc.JettyServer$RequestManager.handleHttp(JettyServer.scala:515)\n",
       "\tat com.databricks.rpc.JettyServer$RequestManager.doPost(JettyServer.scala:405)\n",
       "\tat javax.servlet.http.HttpServlet.service(HttpServlet.java:665)\n",
       "\tat com.databricks.rpc.HttpServletWithPatch.service(HttpServletWithPatch.scala:33)\n",
       "\tat javax.servlet.http.HttpServlet.service(HttpServlet.java:750)\n",
       "\tat org.eclipse.jetty.servlet.ServletHolder.handle(ServletHolder.java:799)\n",
       "\tat org.eclipse.jetty.servlet.ServletHandler.doHandle(ServletHandler.java:554)\n",
       "\tat org.eclipse.jetty.server.handler.ScopedHandler.nextScope(ScopedHandler.java:190)\n",
       "\tat org.eclipse.jetty.servlet.ServletHandler.doScope(ServletHandler.java:505)\n",
       "\tat org.eclipse.jetty.server.handler.ScopedHandler.handle(ScopedHandler.java:141)\n",
       "\tat org.eclipse.jetty.server.handler.HandlerWrapper.handle(HandlerWrapper.java:127)\n",
       "\tat org.eclipse.jetty.server.Server.handle(Server.java:516)\n",
       "\tat org.eclipse.jetty.server.HttpChannel.lambda$handle$1(HttpChannel.java:487)\n",
       "\tat org.eclipse.jetty.server.HttpChannel.dispatch(HttpChannel.java:732)\n",
       "\tat org.eclipse.jetty.server.HttpChannel.handle(HttpChannel.java:479)\n",
       "\tat org.eclipse.jetty.server.HttpConnection.onFillable(HttpConnection.java:277)\n",
       "\tat org.eclipse.jetty.io.AbstractConnection$ReadCallback.succeeded(AbstractConnection.java:311)\n",
       "\tat org.eclipse.jetty.io.FillInterest.fillable(FillInterest.java:105)\n",
       "\tat org.eclipse.jetty.io.ssl.SslConnection$DecryptedEndPoint.onFillable(SslConnection.java:555)\n",
       "\tat org.eclipse.jetty.io.ssl.SslConnection.onFillable(SslConnection.java:410)\n",
       "\tat org.eclipse.jetty.io.ssl.SslConnection$2.succeeded(SslConnection.java:164)\n",
       "\tat org.eclipse.jetty.io.FillInterest.fillable(FillInterest.java:105)\n",
       "\tat org.eclipse.jetty.io.ChannelEndPoint$1.run(ChannelEndPoint.java:104)\n",
       "\tat org.eclipse.jetty.util.thread.strategy.EatWhatYouKill.runTask(EatWhatYouKill.java:338)\n",
       "\tat org.eclipse.jetty.util.thread.strategy.EatWhatYouKill.doProduce(EatWhatYouKill.java:315)\n",
       "\tat org.eclipse.jetty.util.thread.strategy.EatWhatYouKill.tryProduce(EatWhatYouKill.java:173)\n",
       "\tat org.eclipse.jetty.util.thread.strategy.EatWhatYouKill.run(EatWhatYouKill.java:131)\n",
       "\tat org.eclipse.jetty.util.thread.ReservedThreadExecutor$ReservedThread.run(ReservedThreadExecutor.java:409)\n",
       "\tat com.databricks.rpc.InstrumentedQueuedThreadPool$$anon$1.$anonfun$run$4(InstrumentedQueuedThreadPool.scala:104)\n",
       "\tat scala.runtime.java8.JFunction0$mcV$sp.apply(JFunction0$mcV$sp.java:23)\n",
       "\tat com.databricks.logging.UsageLogging.withAttributionContext(UsageLogging.scala:429)\n",
       "\tat com.databricks.logging.UsageLogging.withAttributionContext$(UsageLogging.scala:427)\n",
       "\tat com.databricks.rpc.InstrumentedQueuedThreadPool.withAttributionContext(InstrumentedQueuedThreadPool.scala:47)\n",
       "\tat com.databricks.rpc.InstrumentedQueuedThreadPool$$anon$1.$anonfun$run$1(InstrumentedQueuedThreadPool.scala:104)\n",
       "\tat scala.runtime.java8.JFunction0$mcV$sp.apply(JFunction0$mcV$sp.java:23)\n",
       "\tat com.databricks.instrumentation.QueuedThreadPoolInstrumenter.trackActiveThreads(QueuedThreadPoolInstrumenter.scala:67)\n",
       "\tat com.databricks.instrumentation.QueuedThreadPoolInstrumenter.trackActiveThreads$(QueuedThreadPoolInstrumenter.scala:64)\n",
       "\tat com.databricks.rpc.InstrumentedQueuedThreadPool.trackActiveThreads(InstrumentedQueuedThreadPool.scala:47)\n",
       "\tat com.databricks.rpc.InstrumentedQueuedThreadPool$$anon$1.run(InstrumentedQueuedThreadPool.scala:86)\n",
       "\tat org.eclipse.jetty.util.thread.QueuedThreadPool.runJob(QueuedThreadPool.java:883)\n",
       "\tat org.eclipse.jetty.util.thread.QueuedThreadPool$Runner.run(QueuedThreadPool.java:1034)\n",
       "\tat java.lang.Thread.run(Thread.java:750)"
      ]
     },
     "metadata": {
      "application/vnd.databricks.v1+output": {
       "addedWidgets": {},
       "arguments": {},
       "datasetInfos": [],
       "jupyterProps": null,
       "metadata": {
        "errorSummary": "Cancelled"
       },
       "removedWidgets": [],
       "sqlProps": null,
       "stackFrames": [
        "com.databricks.backend.common.rpc.CommandCancelledException",
        "\tat com.databricks.spark.chauffeur.SequenceExecutionState.$anonfun$cancel$3(SequenceExecutionState.scala:103)",
        "\tat scala.Option.getOrElse(Option.scala:189)",
        "\tat com.databricks.spark.chauffeur.SequenceExecutionState.$anonfun$cancel$2(SequenceExecutionState.scala:103)",
        "\tat com.databricks.spark.chauffeur.SequenceExecutionState.$anonfun$cancel$2$adapted(SequenceExecutionState.scala:100)",
        "\tat scala.collection.immutable.Range.foreach(Range.scala:158)",
        "\tat com.databricks.spark.chauffeur.SequenceExecutionState.cancel(SequenceExecutionState.scala:100)",
        "\tat com.databricks.spark.chauffeur.ExecContextState.cancelRunningSequence(ExecContextState.scala:714)",
        "\tat com.databricks.spark.chauffeur.ExecContextState.$anonfun$cancel$1(ExecContextState.scala:430)",
        "\tat scala.Option.getOrElse(Option.scala:189)",
        "\tat com.databricks.spark.chauffeur.ExecContextState.cancel(ExecContextState.scala:430)",
        "\tat com.databricks.spark.chauffeur.ChauffeurState.cancelExecution(ChauffeurState.scala:1225)",
        "\tat com.databricks.spark.chauffeur.ChauffeurState.$anonfun$process$1(ChauffeurState.scala:958)",
        "\tat com.databricks.logging.UsageLogging.$anonfun$recordOperation$1(UsageLogging.scala:582)",
        "\tat com.databricks.logging.UsageLogging.executeThunkAndCaptureResultTags$1(UsageLogging.scala:685)",
        "\tat com.databricks.logging.UsageLogging.$anonfun$recordOperationWithResultTags$4(UsageLogging.scala:703)",
        "\tat com.databricks.logging.UsageLogging.$anonfun$withAttributionContext$1(UsageLogging.scala:435)",
        "\tat scala.util.DynamicVariable.withValue(DynamicVariable.scala:62)",
        "\tat com.databricks.logging.AttributionContext$.withValue(AttributionContext.scala:216)",
        "\tat com.databricks.logging.UsageLogging.withAttributionContext(UsageLogging.scala:433)",
        "\tat com.databricks.logging.UsageLogging.withAttributionContext$(UsageLogging.scala:427)",
        "\tat com.databricks.spark.chauffeur.ChauffeurState.withAttributionContext(ChauffeurState.scala:67)",
        "\tat com.databricks.logging.UsageLogging.withAttributionTags(UsageLogging.scala:481)",
        "\tat com.databricks.logging.UsageLogging.withAttributionTags$(UsageLogging.scala:464)",
        "\tat com.databricks.spark.chauffeur.ChauffeurState.withAttributionTags(ChauffeurState.scala:67)",
        "\tat com.databricks.logging.UsageLogging.recordOperationWithResultTags(UsageLogging.scala:680)",
        "\tat com.databricks.logging.UsageLogging.recordOperationWithResultTags$(UsageLogging.scala:591)",
        "\tat com.databricks.spark.chauffeur.ChauffeurState.recordOperationWithResultTags(ChauffeurState.scala:67)",
        "\tat com.databricks.logging.UsageLogging.recordOperation(UsageLogging.scala:582)",
        "\tat com.databricks.logging.UsageLogging.recordOperation$(UsageLogging.scala:551)",
        "\tat com.databricks.spark.chauffeur.ChauffeurState.recordOperation(ChauffeurState.scala:67)",
        "\tat com.databricks.spark.chauffeur.ChauffeurState.process(ChauffeurState.scala:915)",
        "\tat com.databricks.spark.chauffeur.Chauffeur$$anon$1$$anonfun$receive$1.handleDriverRequest$1(Chauffeur.scala:681)",
        "\tat com.databricks.spark.chauffeur.Chauffeur$$anon$1$$anonfun$receive$1.$anonfun$applyOrElse$5(Chauffeur.scala:707)",
        "\tat com.databricks.logging.UsageLogging.executeThunkAndCaptureResultTags$1(UsageLogging.scala:685)",
        "\tat com.databricks.logging.UsageLogging.$anonfun$recordOperationWithResultTags$4(UsageLogging.scala:703)",
        "\tat com.databricks.logging.UsageLogging.$anonfun$withAttributionContext$1(UsageLogging.scala:435)",
        "\tat scala.util.DynamicVariable.withValue(DynamicVariable.scala:62)",
        "\tat com.databricks.logging.AttributionContext$.withValue(AttributionContext.scala:216)",
        "\tat com.databricks.logging.UsageLogging.withAttributionContext(UsageLogging.scala:433)",
        "\tat com.databricks.logging.UsageLogging.withAttributionContext$(UsageLogging.scala:427)",
        "\tat com.databricks.rpc.ServerBackend.withAttributionContext(ServerBackend.scala:22)",
        "\tat com.databricks.logging.UsageLogging.withAttributionTags(UsageLogging.scala:481)",
        "\tat com.databricks.logging.UsageLogging.withAttributionTags$(UsageLogging.scala:464)",
        "\tat com.databricks.rpc.ServerBackend.withAttributionTags(ServerBackend.scala:22)",
        "\tat com.databricks.logging.UsageLogging.recordOperationWithResultTags(UsageLogging.scala:680)",
        "\tat com.databricks.logging.UsageLogging.recordOperationWithResultTags$(UsageLogging.scala:591)",
        "\tat com.databricks.rpc.ServerBackend.recordOperationWithResultTags(ServerBackend.scala:22)",
        "\tat com.databricks.spark.chauffeur.Chauffeur$$anon$1$$anonfun$receive$1.handleDriverRequestWithUsageLogging$1(Chauffeur.scala:706)",
        "\tat com.databricks.spark.chauffeur.Chauffeur$$anon$1$$anonfun$receive$1.applyOrElse(Chauffeur.scala:761)",
        "\tat com.databricks.spark.chauffeur.Chauffeur$$anon$1$$anonfun$receive$1.applyOrElse(Chauffeur.scala:554)",
        "\tat com.databricks.rpc.ServerBackend.$anonfun$internalReceive0$2(ServerBackend.scala:174)",
        "\tat com.databricks.rpc.ServerBackend$$anonfun$commonReceive$1.applyOrElse(ServerBackend.scala:200)",
        "\tat com.databricks.rpc.ServerBackend$$anonfun$commonReceive$1.applyOrElse(ServerBackend.scala:200)",
        "\tat com.databricks.rpc.ServerBackend.internalReceive0(ServerBackend.scala:171)",
        "\tat com.databricks.rpc.ServerBackend.$anonfun$internalReceive$1(ServerBackend.scala:147)",
        "\tat com.databricks.logging.UsageLogging.$anonfun$recordOperation$1(UsageLogging.scala:582)",
        "\tat com.databricks.logging.UsageLogging.executeThunkAndCaptureResultTags$1(UsageLogging.scala:685)",
        "\tat com.databricks.logging.UsageLogging.$anonfun$recordOperationWithResultTags$4(UsageLogging.scala:703)",
        "\tat com.databricks.logging.UsageLogging.$anonfun$withAttributionContext$1(UsageLogging.scala:435)",
        "\tat scala.util.DynamicVariable.withValue(DynamicVariable.scala:62)",
        "\tat com.databricks.logging.AttributionContext$.withValue(AttributionContext.scala:216)",
        "\tat com.databricks.logging.UsageLogging.withAttributionContext(UsageLogging.scala:433)",
        "\tat com.databricks.logging.UsageLogging.withAttributionContext$(UsageLogging.scala:427)",
        "\tat com.databricks.rpc.ServerBackend.withAttributionContext(ServerBackend.scala:22)",
        "\tat com.databricks.logging.UsageLogging.withAttributionTags(UsageLogging.scala:481)",
        "\tat com.databricks.logging.UsageLogging.withAttributionTags$(UsageLogging.scala:464)",
        "\tat com.databricks.rpc.ServerBackend.withAttributionTags(ServerBackend.scala:22)",
        "\tat com.databricks.logging.UsageLogging.recordOperationWithResultTags(UsageLogging.scala:680)",
        "\tat com.databricks.logging.UsageLogging.recordOperationWithResultTags$(UsageLogging.scala:591)",
        "\tat com.databricks.rpc.ServerBackend.recordOperationWithResultTags(ServerBackend.scala:22)",
        "\tat com.databricks.logging.UsageLogging.recordOperation(UsageLogging.scala:582)",
        "\tat com.databricks.logging.UsageLogging.recordOperation$(UsageLogging.scala:551)",
        "\tat com.databricks.rpc.ServerBackend.recordOperation(ServerBackend.scala:22)",
        "\tat com.databricks.rpc.ServerBackend.internalReceive(ServerBackend.scala:147)",
        "\tat com.databricks.rpc.JettyServer$RequestManager.handleRPC(JettyServer.scala:1021)",
        "\tat com.databricks.rpc.JettyServer$RequestManager.handleRequestAndRespond(JettyServer.scala:942)",
        "\tat com.databricks.rpc.JettyServer$RequestManager.$anonfun$handleHttp$6(JettyServer.scala:546)",
        "\tat com.databricks.rpc.JettyServer$RequestManager.$anonfun$handleHttp$6$adapted(JettyServer.scala:515)",
        "\tat com.databricks.logging.activity.ActivityContextFactory$.$anonfun$withActivityInternal$4(ActivityContextFactory.scala:483)",
        "\tat com.databricks.logging.UsageLogging.$anonfun$withAttributionContext$1(UsageLogging.scala:435)",
        "\tat scala.util.DynamicVariable.withValue(DynamicVariable.scala:62)",
        "\tat com.databricks.logging.AttributionContext$.withValue(AttributionContext.scala:216)",
        "\tat com.databricks.logging.UsageLogging.withAttributionContext(UsageLogging.scala:433)",
        "\tat com.databricks.logging.UsageLogging.withAttributionContext$(UsageLogging.scala:427)",
        "\tat com.databricks.logging.activity.ActivityContextFactory$.withAttributionContext(ActivityContextFactory.scala:58)",
        "\tat com.databricks.logging.activity.ActivityContextFactory$.$anonfun$withActivityInternal$1(ActivityContextFactory.scala:483)",
        "\tat com.databricks.context.integrity.IntegrityCheckContext$ThreadLocalStorage$.withValue(IntegrityCheckContext.scala:75)",
        "\tat com.databricks.logging.activity.ActivityContextFactory$.withActivityInternal(ActivityContextFactory.scala:458)",
        "\tat com.databricks.logging.activity.ActivityContextFactory$.withServiceRequestActivity(ActivityContextFactory.scala:160)",
        "\tat com.databricks.rpc.JettyServer$RequestManager.handleHttp(JettyServer.scala:515)",
        "\tat com.databricks.rpc.JettyServer$RequestManager.doPost(JettyServer.scala:405)",
        "\tat javax.servlet.http.HttpServlet.service(HttpServlet.java:665)",
        "\tat com.databricks.rpc.HttpServletWithPatch.service(HttpServletWithPatch.scala:33)",
        "\tat javax.servlet.http.HttpServlet.service(HttpServlet.java:750)",
        "\tat org.eclipse.jetty.servlet.ServletHolder.handle(ServletHolder.java:799)",
        "\tat org.eclipse.jetty.servlet.ServletHandler.doHandle(ServletHandler.java:554)",
        "\tat org.eclipse.jetty.server.handler.ScopedHandler.nextScope(ScopedHandler.java:190)",
        "\tat org.eclipse.jetty.servlet.ServletHandler.doScope(ServletHandler.java:505)",
        "\tat org.eclipse.jetty.server.handler.ScopedHandler.handle(ScopedHandler.java:141)",
        "\tat org.eclipse.jetty.server.handler.HandlerWrapper.handle(HandlerWrapper.java:127)",
        "\tat org.eclipse.jetty.server.Server.handle(Server.java:516)",
        "\tat org.eclipse.jetty.server.HttpChannel.lambda$handle$1(HttpChannel.java:487)",
        "\tat org.eclipse.jetty.server.HttpChannel.dispatch(HttpChannel.java:732)",
        "\tat org.eclipse.jetty.server.HttpChannel.handle(HttpChannel.java:479)",
        "\tat org.eclipse.jetty.server.HttpConnection.onFillable(HttpConnection.java:277)",
        "\tat org.eclipse.jetty.io.AbstractConnection$ReadCallback.succeeded(AbstractConnection.java:311)",
        "\tat org.eclipse.jetty.io.FillInterest.fillable(FillInterest.java:105)",
        "\tat org.eclipse.jetty.io.ssl.SslConnection$DecryptedEndPoint.onFillable(SslConnection.java:555)",
        "\tat org.eclipse.jetty.io.ssl.SslConnection.onFillable(SslConnection.java:410)",
        "\tat org.eclipse.jetty.io.ssl.SslConnection$2.succeeded(SslConnection.java:164)",
        "\tat org.eclipse.jetty.io.FillInterest.fillable(FillInterest.java:105)",
        "\tat org.eclipse.jetty.io.ChannelEndPoint$1.run(ChannelEndPoint.java:104)",
        "\tat org.eclipse.jetty.util.thread.strategy.EatWhatYouKill.runTask(EatWhatYouKill.java:338)",
        "\tat org.eclipse.jetty.util.thread.strategy.EatWhatYouKill.doProduce(EatWhatYouKill.java:315)",
        "\tat org.eclipse.jetty.util.thread.strategy.EatWhatYouKill.tryProduce(EatWhatYouKill.java:173)",
        "\tat org.eclipse.jetty.util.thread.strategy.EatWhatYouKill.run(EatWhatYouKill.java:131)",
        "\tat org.eclipse.jetty.util.thread.ReservedThreadExecutor$ReservedThread.run(ReservedThreadExecutor.java:409)",
        "\tat com.databricks.rpc.InstrumentedQueuedThreadPool$$anon$1.$anonfun$run$4(InstrumentedQueuedThreadPool.scala:104)",
        "\tat scala.runtime.java8.JFunction0$mcV$sp.apply(JFunction0$mcV$sp.java:23)",
        "\tat com.databricks.logging.UsageLogging.withAttributionContext(UsageLogging.scala:429)",
        "\tat com.databricks.logging.UsageLogging.withAttributionContext$(UsageLogging.scala:427)",
        "\tat com.databricks.rpc.InstrumentedQueuedThreadPool.withAttributionContext(InstrumentedQueuedThreadPool.scala:47)",
        "\tat com.databricks.rpc.InstrumentedQueuedThreadPool$$anon$1.$anonfun$run$1(InstrumentedQueuedThreadPool.scala:104)",
        "\tat scala.runtime.java8.JFunction0$mcV$sp.apply(JFunction0$mcV$sp.java:23)",
        "\tat com.databricks.instrumentation.QueuedThreadPoolInstrumenter.trackActiveThreads(QueuedThreadPoolInstrumenter.scala:67)",
        "\tat com.databricks.instrumentation.QueuedThreadPoolInstrumenter.trackActiveThreads$(QueuedThreadPoolInstrumenter.scala:64)",
        "\tat com.databricks.rpc.InstrumentedQueuedThreadPool.trackActiveThreads(InstrumentedQueuedThreadPool.scala:47)",
        "\tat com.databricks.rpc.InstrumentedQueuedThreadPool$$anon$1.run(InstrumentedQueuedThreadPool.scala:86)",
        "\tat org.eclipse.jetty.util.thread.QueuedThreadPool.runJob(QueuedThreadPool.java:883)",
        "\tat org.eclipse.jetty.util.thread.QueuedThreadPool$Runner.run(QueuedThreadPool.java:1034)",
        "\tat java.lang.Thread.run(Thread.java:750)"
       ],
       "type": "baseError"
      }
     },
     "output_type": "display_data"
    }
   ],
   "source": [
    "from pyspark.sql.functions import udf, countDistinct, sum, col\n",
    "from pyspark.sql.types import IntegerType\n",
    "\n",
    "calculate_time_overlap = lambda start_interval_1, end_interval_1, start_interval_2, end_interval_2: \\\n",
    "    0 if end_interval_1 <= start_interval_2 or end_interval_2 <= start_interval_1 else \\\n",
    "    max(end_interval_1, end_interval_2) - min(start_interval_1, start_interval_2) \n",
    "\n",
    "calculate_time_overlap_udf = udf(calculate_time_overlap, IntegerType())\n",
    "\n",
    "cow1 = cows_bff\\\n",
    "    .withColumnRenamed('cow_name','cow1')\\\n",
    "    .withColumnRenamed('meal_start','meal_start1')\\\n",
    "    .withColumnRenamed('meal_end','meal_end1')\\\n",
    "    .withColumnRenamed('date','date1')\\\n",
    "    .select('cow1','meal_start1','meal_end1','date1')\n",
    "\n",
    "\n",
    "cow2 = cows_bff\\\n",
    "    .withColumnRenamed('cow_name','cow2')\\\n",
    "    .withColumnRenamed('meal_start','meal_start2')\\\n",
    "    .withColumnRenamed('meal_end','meal_end2')\\\n",
    "    .withColumnRenamed('date','date2')\\\n",
    "    .select('cow2','meal_start2','meal_end2','date2')\n",
    "\n",
    "df = cow1.crossJoin(cow2)\\\n",
    "  .where((cow1.cow1 != cow2.cow2) & (cow1.date1 == cow2.date2))\n",
    "\n",
    "df = df\\\n",
    "  .withColumn('overlap', calculate_time_overlap_udf(\"meal_start1\", \"meal_end1\", \"meal_start2\", \"meal_end2\"))\\\n",
    "  .select('cow1','cow2','date1','overlap')\n",
    "\n",
    "df = df.groupBy('cow1', 'cow2').agg(sum('overlap').alias('total_overlap'), countDistinct('date1').alias('distinct_days'))\n",
    "df = df\\\n",
    "  .withColumn('avg_overlap', df.total_overlap / df.distinct_days)\\\n",
    "  .select('cow1','cow2','avg_overlap')\\\n",
    "  .withColumnRenamed('avg_overlap','distance')\\\n",
    "  .sort(col('cow1').asc(), col('cow2').asc())\n"
   ]
  },
  {
   "cell_type": "markdown",
   "metadata": {
    "application/vnd.databricks.v1+cell": {
     "cellMetadata": {},
     "inputWidgets": {},
     "nuid": "528c3a06-31c6-4124-b702-8052b7e3a821",
     "showTitle": false,
     "title": ""
    }
   },
   "source": [
    "# Display Heatmap"
   ]
  },
  {
   "cell_type": "code",
   "execution_count": 0,
   "metadata": {
    "application/vnd.databricks.v1+cell": {
     "cellMetadata": {
      "byteLimit": 2048000,
      "rowLimit": 10000
     },
     "inputWidgets": {},
     "nuid": "8af2d258-2667-4e01-bf77-1f9fe063ffea",
     "showTitle": false,
     "title": ""
    }
   },
   "outputs": [
    {
     "output_type": "display_data",
     "data": {
      "text/plain": [
       "Databricks visualization. Run in Databricks to view."
      ]
     },
     "metadata": {
      "application/vnd.databricks.v1.subcommand+json": {
       "baseErrorDetails": null,
       "bindings": {},
       "collapsed": false,
       "command": "%python\n__backend_agg_display_orig = display\n__backend_agg_dfs = []\ndef __backend_agg_display_new(df):\n    __backend_agg_df_modules = [\"pandas.core.frame\", \"databricks.koalas.frame\", \"pyspark.sql.dataframe\", \"pyspark.pandas.frame\", \"pyspark.sql.connect.dataframe\"]\n    if (type(df).__module__ in __backend_agg_df_modules and type(df).__name__ == 'DataFrame') or isinstance(df, list):\n        __backend_agg_dfs.append(df)\n\ndisplay = __backend_agg_display_new\n\ndef __backend_agg_user_code_fn():\n    import base64\n    exec(base64.standard_b64decode(\"ZGlzcGxheShkZik=\").decode())\n\ntry:\n    # run user code\n    __backend_agg_user_code_fn()\n\n    #reset display function\n    display = __backend_agg_display_orig\n\n    if len(__backend_agg_dfs) > 0:\n        # create a temp view\n        if type(__backend_agg_dfs[0]).__module__ == \"databricks.koalas.frame\":\n            # koalas dataframe\n            __backend_agg_dfs[0].to_spark().createOrReplaceTempView(\"DatabricksView9d4afee\")\n        elif type(__backend_agg_dfs[0]).__module__ == \"pandas.core.frame\" or isinstance(__backend_agg_dfs[0], list):\n            # pandas dataframe\n            spark.createDataFrame(__backend_agg_dfs[0]).createOrReplaceTempView(\"DatabricksView9d4afee\")\n        else:\n            __backend_agg_dfs[0].createOrReplaceTempView(\"DatabricksView9d4afee\")\n        #run backend agg\n        display(spark.sql(\"\"\"WITH q AS (select * from DatabricksView9d4afee) SELECT `cow1`,`cow2`,SUM(`distance`) `column_302b3ae314` FROM q GROUP BY `cow1`,`cow2`\"\"\"))\n    else:\n        displayHTML(\"dataframe no longer exists. If you're using dataframe.display(), use display(dataframe) instead.\")\n\n\nfinally:\n    spark.sql(\"drop view if exists DatabricksView9d4afee\")\n    display = __backend_agg_display_orig\n    del __backend_agg_display_new\n    del __backend_agg_display_orig\n    del __backend_agg_dfs\n    del __backend_agg_user_code_fn\n\n",
       "commandTitle": "Visualization 1",
       "commandType": "auto",
       "commandVersion": 0,
       "commentThread": [],
       "commentsVisible": false,
       "contentSha256Hex": null,
       "customPlotOptions": {
        "redashChart": [
         {
          "key": "type",
          "value": "CHART"
         },
         {
          "key": "options",
          "value": {
           "alignYAxesAtZero": true,
           "coefficient": 1,
           "colorScheme": "Reds",
           "columnConfigurationMap": {
            "x": {
             "column": "cow1",
             "id": "column_302b3ae39"
            },
            "y": [
             {
              "column": "cow2",
              "id": "column_302b3ae316"
             }
            ],
            "zVal": {
             "column": "distance",
             "id": "column_302b3ae314",
             "transform": "SUM"
            }
           },
           "dateTimeFormat": "DD/MM/YYYY HH:mm",
           "direction": {
            "type": "counterclockwise"
           },
           "error_y": {
            "type": "data",
            "visible": true
           },
           "globalSeriesType": "heatmap",
           "isAggregationOn": true,
           "legend": {
            "title": "distance",
            "traceorder": "normal"
           },
           "missingValuesAsZero": true,
           "numberFormat": "0,0.[00000]",
           "percentFormat": "0[.]00%",
           "series": {
            "error_y": {
             "type": "data",
             "visible": true
            },
            "stacking": null
           },
           "seriesOptions": {
            "column_302b3ae311": {
             "name": "distance",
             "type": "heatmap",
             "yAxis": 0
            },
            "column_302b3ae316": {
             "type": "heatmap",
             "yAxis": 0
            }
           },
           "showDataLabels": false,
           "sizemode": "diameter",
           "sortX": true,
           "sortY": true,
           "swappedAxes": false,
           "textFormat": "",
           "useAggregationsUi": true,
           "valuesOptions": {},
           "version": 2,
           "xAxis": {
            "labels": {
             "enabled": true
            },
            "type": "-"
           },
           "yAxis": [
            {
             "type": "-"
            },
            {
             "opposite": true,
             "type": "-"
            }
           ]
          }
         }
        ]
       },
       "datasetPreviewNameToCmdIdMap": {},
       "diffDeletes": [],
       "diffInserts": [],
       "displayType": "redashChart",
       "error": null,
       "errorDetails": null,
       "errorSummary": null,
       "errorTraceType": null,
       "finishTime": 0,
       "globalVars": {},
       "guid": "",
       "height": "auto",
       "hideCommandCode": false,
       "hideCommandResult": false,
       "iPythonMetadata": null,
       "inputWidgets": {},
       "isLockedInExamMode": false,
       "latestUser": "a user",
       "latestUserId": null,
       "listResultMetadata": null,
       "metadata": {},
       "nuid": "07057e87-56da-4eae-beee-e78b2bc45116",
       "origId": 0,
       "parentHierarchy": [],
       "pivotAggregation": null,
       "pivotColumns": null,
       "position": -1.0,
       "resultDbfsErrorMessage": null,
       "resultDbfsStatus": "INLINED_IN_TREE",
       "results": null,
       "showCommandTitle": false,
       "startTime": 0,
       "state": "input",
       "streamStates": {},
       "subcommandOptions": {
        "queryPlan": {
         "groups": [
          {
           "column": "cow1",
           "type": "column"
          },
          {
           "column": "cow2",
           "type": "column"
          }
         ],
         "selects": [
          {
           "column": "cow1",
           "type": "column"
          },
          {
           "column": "cow2",
           "type": "column"
          },
          {
           "alias": "column_302b3ae314",
           "args": [
            {
             "column": "distance",
             "type": "column"
            }
           ],
           "function": "SUM",
           "type": "function"
          }
         ]
        }
       },
       "submitTime": 0,
       "subtype": "tableResultSubCmd.visualization",
       "tableResultIndex": 0,
       "useConsistentColors": false,
       "version": "CommandV1",
       "width": "auto",
       "workflows": [],
       "xColumns": null,
       "yColumns": null
      }
     },
     "output_type": "display_data"
    },
    {
     "output_type": "display_data",
     "data": {
      "text/html": [
       "<style scoped>\n",
       "  .table-result-container {\n",
       "    max-height: 300px;\n",
       "    overflow: auto;\n",
       "  }\n",
       "  table, th, td {\n",
       "    border: 1px solid black;\n",
       "    border-collapse: collapse;\n",
       "  }\n",
       "  th, td {\n",
       "    padding: 5px;\n",
       "  }\n",
       "  th {\n",
       "    text-align: left;\n",
       "  }\n",
       "</style><div class='table-result-container'><table class='table-result'><thead style='background-color: white'><tr><th>cow1</th><th>cow2</th><th>distance</th></tr></thead><tbody><tr><td>Brandy</td><td>Buttercup</td><td>934.4615384615385</td></tr><tr><td>Brandy</td><td>Butterscotch</td><td>1107.6153846153845</td></tr><tr><td>Brandy</td><td>Cocoa</td><td>1004.7692307692307</td></tr><tr><td>Brandy</td><td>Daisy</td><td>1359.0</td></tr><tr><td>Brandy</td><td>Dottie</td><td>1189.7692307692307</td></tr><tr><td>Brandy</td><td>Hershey</td><td>1103.0</td></tr><tr><td>Brandy</td><td>Magic</td><td>789.2307692307693</td></tr><tr><td>Brandy</td><td>Marshmallow</td><td>1120.3076923076924</td></tr><tr><td>Brandy</td><td>Mocha</td><td>1004.7692307692307</td></tr><tr><td>Brandy</td><td>Muffin</td><td>1291.0</td></tr><tr><td>Brandy</td><td>Nellie</td><td>986.0</td></tr><tr><td>Brandy</td><td>Nutella</td><td>1034.923076923077</td></tr><tr><td>Brandy</td><td>Peaches</td><td>1016.8461538461538</td></tr><tr><td>Brandy</td><td>Popcorn</td><td>1194.3076923076924</td></tr><tr><td>Buttercup</td><td>Brandy</td><td>934.4615384615385</td></tr><tr><td>Buttercup</td><td>Butterscotch</td><td>863.0</td></tr><tr><td>Buttercup</td><td>Cocoa</td><td>1175.923076923077</td></tr><tr><td>Buttercup</td><td>Daisy</td><td>1849.5384615384614</td></tr><tr><td>Buttercup</td><td>Dottie</td><td>1361.923076923077</td></tr><tr><td>Buttercup</td><td>Hershey</td><td>1499.5384615384614</td></tr><tr><td>Buttercup</td><td>Magic</td><td>959.7692307692307</td></tr><tr><td>Buttercup</td><td>Marshmallow</td><td>1603.1538461538462</td></tr><tr><td>Buttercup</td><td>Mocha</td><td>1175.923076923077</td></tr><tr><td>Buttercup</td><td>Muffin</td><td>1496.923076923077</td></tr><tr><td>Buttercup</td><td>Nellie</td><td>1135.923076923077</td></tr><tr><td>Buttercup</td><td>Nutella</td><td>1161.1538461538462</td></tr><tr><td>Buttercup</td><td>Peaches</td><td>850.3846153846154</td></tr><tr><td>Buttercup</td><td>Popcorn</td><td>1282.923076923077</td></tr><tr><td>Butterscotch</td><td>Brandy</td><td>1107.6153846153845</td></tr><tr><td>Butterscotch</td><td>Buttercup</td><td>863.0</td></tr><tr><td>Butterscotch</td><td>Cocoa</td><td>1224.1538461538462</td></tr><tr><td>Butterscotch</td><td>Daisy</td><td>1649.6923076923076</td></tr><tr><td>Butterscotch</td><td>Dottie</td><td>899.5384615384615</td></tr><tr><td>Butterscotch</td><td>Hershey</td><td>925.0769230769231</td></tr><tr><td>Butterscotch</td><td>Magic</td><td>501.61538461538464</td></tr><tr><td>Butterscotch</td><td>Marshmallow</td><td>1155.2307692307693</td></tr><tr><td>Butterscotch</td><td>Mocha</td><td>1224.1538461538462</td></tr><tr><td>Butterscotch</td><td>Muffin</td><td>1413.6923076923076</td></tr><tr><td>Butterscotch</td><td>Nellie</td><td>1067.2307692307693</td></tr><tr><td>Butterscotch</td><td>Nutella</td><td>1057.6153846153845</td></tr><tr><td>Butterscotch</td><td>Peaches</td><td>397.3076923076923</td></tr><tr><td>Butterscotch</td><td>Popcorn</td><td>1194.076923076923</td></tr><tr><td>Cocoa</td><td>Brandy</td><td>1004.7692307692307</td></tr><tr><td>Cocoa</td><td>Buttercup</td><td>1175.923076923077</td></tr><tr><td>Cocoa</td><td>Butterscotch</td><td>1224.1538461538462</td></tr><tr><td>Cocoa</td><td>Daisy</td><td>1751.3846153846155</td></tr><tr><td>Cocoa</td><td>Dottie</td><td>1179.4615384615386</td></tr><tr><td>Cocoa</td><td>Hershey</td><td>1354.5384615384614</td></tr><tr><td>Cocoa</td><td>Magic</td><td>830.3076923076923</td></tr><tr><td>Cocoa</td><td>Marshmallow</td><td>1521.2307692307693</td></tr><tr><td>Cocoa</td><td>Mocha</td><td>1015.6153846153846</td></tr><tr><td>Cocoa</td><td>Muffin</td><td>1376.3076923076924</td></tr><tr><td>Cocoa</td><td>Nellie</td><td>1398.923076923077</td></tr><tr><td>Cocoa</td><td>Nutella</td><td>1204.8461538461538</td></tr><tr><td>Cocoa</td><td>Peaches</td><td>830.9230769230769</td></tr><tr><td>Cocoa</td><td>Popcorn</td><td>1370.0</td></tr><tr><td>Daisy</td><td>Brandy</td><td>1359.0</td></tr><tr><td>Daisy</td><td>Buttercup</td><td>1849.5384615384614</td></tr><tr><td>Daisy</td><td>Butterscotch</td><td>1649.6923076923076</td></tr><tr><td>Daisy</td><td>Cocoa</td><td>1751.3846153846155</td></tr><tr><td>Daisy</td><td>Dottie</td><td>1609.4615384615386</td></tr><tr><td>Daisy</td><td>Hershey</td><td>1663.5384615384614</td></tr><tr><td>Daisy</td><td>Magic</td><td>1440.1538461538462</td></tr><tr><td>Daisy</td><td>Marshmallow</td><td>1824.3846153846155</td></tr><tr><td>Daisy</td><td>Mocha</td><td>1751.3846153846155</td></tr><tr><td>Daisy</td><td>Muffin</td><td>1769.6153846153845</td></tr><tr><td>Daisy</td><td>Nellie</td><td>1918.923076923077</td></tr><tr><td>Daisy</td><td>Nutella</td><td>1439.6153846153845</td></tr><tr><td>Daisy</td><td>Peaches</td><td>1268.0</td></tr><tr><td>Daisy</td><td>Popcorn</td><td>1572.923076923077</td></tr><tr><td>Dottie</td><td>Brandy</td><td>1189.7692307692307</td></tr><tr><td>Dottie</td><td>Buttercup</td><td>1361.923076923077</td></tr><tr><td>Dottie</td><td>Butterscotch</td><td>899.5384615384615</td></tr><tr><td>Dottie</td><td>Cocoa</td><td>1179.4615384615386</td></tr><tr><td>Dottie</td><td>Daisy</td><td>1609.4615384615386</td></tr><tr><td>Dottie</td><td>Hershey</td><td>1375.3076923076924</td></tr><tr><td>Dottie</td><td>Magic</td><td>722.1538461538462</td></tr><tr><td>Dottie</td><td>Marshmallow</td><td>1342.5384615384614</td></tr><tr><td>Dottie</td><td>Mocha</td><td>1179.4615384615386</td></tr><tr><td>Dottie</td><td>Muffin</td><td>1322.3846153846155</td></tr><tr><td>Dottie</td><td>Nellie</td><td>1199.923076923077</td></tr><tr><td>Dottie</td><td>Nutella</td><td>1226.0</td></tr><tr><td>Dottie</td><td>Peaches</td><td>818.0</td></tr><tr><td>Dottie</td><td>Popcorn</td><td>1439.6923076923076</td></tr><tr><td>Hershey</td><td>Brandy</td><td>1103.0</td></tr><tr><td>Hershey</td><td>Buttercup</td><td>1499.5384615384614</td></tr><tr><td>Hershey</td><td>Butterscotch</td><td>925.0769230769231</td></tr><tr><td>Hershey</td><td>Cocoa</td><td>1354.5384615384614</td></tr><tr><td>Hershey</td><td>Daisy</td><td>1663.5384615384614</td></tr><tr><td>Hershey</td><td>Dottie</td><td>1375.3076923076924</td></tr><tr><td>Hershey</td><td>Magic</td><td>1291.6923076923076</td></tr><tr><td>Hershey</td><td>Marshmallow</td><td>1382.3846153846155</td></tr><tr><td>Hershey</td><td>Mocha</td><td>1354.5384615384614</td></tr><tr><td>Hershey</td><td>Muffin</td><td>1580.8461538461538</td></tr><tr><td>Hershey</td><td>Nellie</td><td>1201.076923076923</td></tr><tr><td>Hershey</td><td>Nutella</td><td>1283.4615384615386</td></tr><tr><td>Hershey</td><td>Peaches</td><td>764.4615384615385</td></tr><tr><td>Hershey</td><td>Popcorn</td><td>1427.3076923076924</td></tr><tr><td>Magic</td><td>Brandy</td><td>789.2307692307693</td></tr><tr><td>Magic</td><td>Buttercup</td><td>959.7692307692307</td></tr><tr><td>Magic</td><td>Butterscotch</td><td>501.61538461538464</td></tr><tr><td>Magic</td><td>Cocoa</td><td>830.3076923076923</td></tr><tr><td>Magic</td><td>Daisy</td><td>1440.1538461538462</td></tr><tr><td>Magic</td><td>Dottie</td><td>722.1538461538462</td></tr><tr><td>Magic</td><td>Hershey</td><td>1291.6923076923076</td></tr><tr><td>Magic</td><td>Marshmallow</td><td>1128.923076923077</td></tr><tr><td>Magic</td><td>Mocha</td><td>830.3076923076923</td></tr><tr><td>Magic</td><td>Muffin</td><td>1164.6153846153845</td></tr><tr><td>Magic</td><td>Nellie</td><td>708.1538461538462</td></tr><tr><td>Magic</td><td>Nutella</td><td>779.6923076923077</td></tr><tr><td>Magic</td><td>Peaches</td><td>285.2307692307692</td></tr><tr><td>Magic</td><td>Popcorn</td><td>1165.5384615384614</td></tr><tr><td>Marshmallow</td><td>Brandy</td><td>1120.3076923076924</td></tr><tr><td>Marshmallow</td><td>Buttercup</td><td>1603.1538461538462</td></tr><tr><td>Marshmallow</td><td>Butterscotch</td><td>1155.2307692307693</td></tr><tr><td>Marshmallow</td><td>Cocoa</td><td>1521.2307692307693</td></tr><tr><td>Marshmallow</td><td>Daisy</td><td>1824.3846153846155</td></tr><tr><td>Marshmallow</td><td>Dottie</td><td>1342.5384615384614</td></tr><tr><td>Marshmallow</td><td>Hershey</td><td>1382.3846153846155</td></tr><tr><td>Marshmallow</td><td>Magic</td><td>1128.923076923077</td></tr><tr><td>Marshmallow</td><td>Mocha</td><td>1521.2307692307693</td></tr><tr><td>Marshmallow</td><td>Muffin</td><td>1722.0</td></tr><tr><td>Marshmallow</td><td>Nellie</td><td>1593.1538461538462</td></tr><tr><td>Marshmallow</td><td>Nutella</td><td>1436.2307692307693</td></tr><tr><td>Marshmallow</td><td>Peaches</td><td>1204.2307692307693</td></tr><tr><td>Marshmallow</td><td>Popcorn</td><td>1647.4615384615386</td></tr><tr><td>Mocha</td><td>Brandy</td><td>1004.7692307692307</td></tr><tr><td>Mocha</td><td>Buttercup</td><td>1175.923076923077</td></tr><tr><td>Mocha</td><td>Butterscotch</td><td>1224.1538461538462</td></tr><tr><td>Mocha</td><td>Cocoa</td><td>1015.6153846153846</td></tr><tr><td>Mocha</td><td>Daisy</td><td>1751.3846153846155</td></tr><tr><td>Mocha</td><td>Dottie</td><td>1179.4615384615386</td></tr><tr><td>Mocha</td><td>Hershey</td><td>1354.5384615384614</td></tr><tr><td>Mocha</td><td>Magic</td><td>830.3076923076923</td></tr><tr><td>Mocha</td><td>Marshmallow</td><td>1521.2307692307693</td></tr><tr><td>Mocha</td><td>Muffin</td><td>1376.3076923076924</td></tr><tr><td>Mocha</td><td>Nellie</td><td>1398.923076923077</td></tr><tr><td>Mocha</td><td>Nutella</td><td>1204.8461538461538</td></tr><tr><td>Mocha</td><td>Peaches</td><td>830.9230769230769</td></tr><tr><td>Mocha</td><td>Popcorn</td><td>1370.0</td></tr><tr><td>Muffin</td><td>Brandy</td><td>1291.0</td></tr><tr><td>Muffin</td><td>Buttercup</td><td>1496.923076923077</td></tr><tr><td>Muffin</td><td>Butterscotch</td><td>1413.6923076923076</td></tr><tr><td>Muffin</td><td>Cocoa</td><td>1376.3076923076924</td></tr><tr><td>Muffin</td><td>Daisy</td><td>1769.6153846153845</td></tr><tr><td>Muffin</td><td>Dottie</td><td>1322.3846153846155</td></tr><tr><td>Muffin</td><td>Hershey</td><td>1580.8461538461538</td></tr><tr><td>Muffin</td><td>Magic</td><td>1164.6153846153845</td></tr><tr><td>Muffin</td><td>Marshmallow</td><td>1722.0</td></tr><tr><td>Muffin</td><td>Mocha</td><td>1376.3076923076924</td></tr><tr><td>Muffin</td><td>Nellie</td><td>1580.3846153846155</td></tr><tr><td>Muffin</td><td>Nutella</td><td>1511.1538461538462</td></tr><tr><td>Muffin</td><td>Peaches</td><td>803.0769230769231</td></tr><tr><td>Muffin</td><td>Popcorn</td><td>1291.1538461538462</td></tr><tr><td>Nellie</td><td>Brandy</td><td>986.0</td></tr><tr><td>Nellie</td><td>Buttercup</td><td>1135.923076923077</td></tr><tr><td>Nellie</td><td>Butterscotch</td><td>1067.2307692307693</td></tr><tr><td>Nellie</td><td>Cocoa</td><td>1398.923076923077</td></tr><tr><td>Nellie</td><td>Daisy</td><td>1918.923076923077</td></tr><tr><td>Nellie</td><td>Dottie</td><td>1199.923076923077</td></tr><tr><td>Nellie</td><td>Hershey</td><td>1201.076923076923</td></tr><tr><td>Nellie</td><td>Magic</td><td>708.1538461538462</td></tr><tr><td>Nellie</td><td>Marshmallow</td><td>1593.1538461538462</td></tr><tr><td>Nellie</td><td>Mocha</td><td>1398.923076923077</td></tr><tr><td>Nellie</td><td>Muffin</td><td>1580.3846153846155</td></tr><tr><td>Nellie</td><td>Nutella</td><td>1137.0</td></tr><tr><td>Nellie</td><td>Peaches</td><td>836.1538461538462</td></tr><tr><td>Nellie</td><td>Popcorn</td><td>1413.4615384615386</td></tr><tr><td>Nutella</td><td>Brandy</td><td>1034.923076923077</td></tr><tr><td>Nutella</td><td>Buttercup</td><td>1161.1538461538462</td></tr><tr><td>Nutella</td><td>Butterscotch</td><td>1057.6153846153845</td></tr><tr><td>Nutella</td><td>Cocoa</td><td>1204.8461538461538</td></tr><tr><td>Nutella</td><td>Daisy</td><td>1439.6153846153845</td></tr><tr><td>Nutella</td><td>Dottie</td><td>1226.0</td></tr><tr><td>Nutella</td><td>Hershey</td><td>1283.4615384615386</td></tr><tr><td>Nutella</td><td>Magic</td><td>779.6923076923077</td></tr><tr><td>Nutella</td><td>Marshmallow</td><td>1436.2307692307693</td></tr><tr><td>Nutella</td><td>Mocha</td><td>1204.8461538461538</td></tr><tr><td>Nutella</td><td>Muffin</td><td>1511.1538461538462</td></tr><tr><td>Nutella</td><td>Nellie</td><td>1137.0</td></tr><tr><td>Nutella</td><td>Peaches</td><td>765.3846153846154</td></tr><tr><td>Nutella</td><td>Popcorn</td><td>1154.2307692307693</td></tr><tr><td>Peaches</td><td>Brandy</td><td>1016.8461538461538</td></tr><tr><td>Peaches</td><td>Buttercup</td><td>850.3846153846154</td></tr><tr><td>Peaches</td><td>Butterscotch</td><td>397.3076923076923</td></tr><tr><td>Peaches</td><td>Cocoa</td><td>830.9230769230769</td></tr><tr><td>Peaches</td><td>Daisy</td><td>1268.0</td></tr><tr><td>Peaches</td><td>Dottie</td><td>818.0</td></tr><tr><td>Peaches</td><td>Hershey</td><td>764.4615384615385</td></tr><tr><td>Peaches</td><td>Magic</td><td>285.2307692307692</td></tr><tr><td>Peaches</td><td>Marshmallow</td><td>1204.2307692307693</td></tr><tr><td>Peaches</td><td>Mocha</td><td>830.9230769230769</td></tr><tr><td>Peaches</td><td>Muffin</td><td>803.0769230769231</td></tr><tr><td>Peaches</td><td>Nellie</td><td>836.1538461538462</td></tr><tr><td>Peaches</td><td>Nutella</td><td>765.3846153846154</td></tr><tr><td>Peaches</td><td>Popcorn</td><td>929.9230769230769</td></tr><tr><td>Popcorn</td><td>Brandy</td><td>1194.3076923076924</td></tr><tr><td>Popcorn</td><td>Buttercup</td><td>1282.923076923077</td></tr><tr><td>Popcorn</td><td>Butterscotch</td><td>1194.076923076923</td></tr><tr><td>Popcorn</td><td>Cocoa</td><td>1370.0</td></tr><tr><td>Popcorn</td><td>Daisy</td><td>1572.923076923077</td></tr><tr><td>Popcorn</td><td>Dottie</td><td>1439.6923076923076</td></tr><tr><td>Popcorn</td><td>Hershey</td><td>1427.3076923076924</td></tr><tr><td>Popcorn</td><td>Magic</td><td>1165.5384615384614</td></tr><tr><td>Popcorn</td><td>Marshmallow</td><td>1647.4615384615386</td></tr><tr><td>Popcorn</td><td>Mocha</td><td>1370.0</td></tr><tr><td>Popcorn</td><td>Muffin</td><td>1291.1538461538462</td></tr><tr><td>Popcorn</td><td>Nellie</td><td>1413.4615384615386</td></tr><tr><td>Popcorn</td><td>Nutella</td><td>1154.2307692307693</td></tr><tr><td>Popcorn</td><td>Peaches</td><td>929.9230769230769</td></tr></tbody></table></div>"
      ]
     },
     "metadata": {
      "application/vnd.databricks.v1+output": {
       "addedWidgets": {},
       "aggData": [],
       "aggError": "",
       "aggOverflow": false,
       "aggSchema": [],
       "aggSeriesLimitReached": false,
       "aggType": "",
       "arguments": {},
       "columnCustomDisplayInfos": {},
       "data": [
        [
         "Brandy",
         "Buttercup",
         934.4615384615385
        ],
        [
         "Brandy",
         "Butterscotch",
         1107.6153846153845
        ],
        [
         "Brandy",
         "Cocoa",
         1004.7692307692307
        ],
        [
         "Brandy",
         "Daisy",
         1359.0
        ],
        [
         "Brandy",
         "Dottie",
         1189.7692307692307
        ],
        [
         "Brandy",
         "Hershey",
         1103.0
        ],
        [
         "Brandy",
         "Magic",
         789.2307692307693
        ],
        [
         "Brandy",
         "Marshmallow",
         1120.3076923076924
        ],
        [
         "Brandy",
         "Mocha",
         1004.7692307692307
        ],
        [
         "Brandy",
         "Muffin",
         1291.0
        ],
        [
         "Brandy",
         "Nellie",
         986.0
        ],
        [
         "Brandy",
         "Nutella",
         1034.923076923077
        ],
        [
         "Brandy",
         "Peaches",
         1016.8461538461538
        ],
        [
         "Brandy",
         "Popcorn",
         1194.3076923076924
        ],
        [
         "Buttercup",
         "Brandy",
         934.4615384615385
        ],
        [
         "Buttercup",
         "Butterscotch",
         863.0
        ],
        [
         "Buttercup",
         "Cocoa",
         1175.923076923077
        ],
        [
         "Buttercup",
         "Daisy",
         1849.5384615384614
        ],
        [
         "Buttercup",
         "Dottie",
         1361.923076923077
        ],
        [
         "Buttercup",
         "Hershey",
         1499.5384615384614
        ],
        [
         "Buttercup",
         "Magic",
         959.7692307692307
        ],
        [
         "Buttercup",
         "Marshmallow",
         1603.1538461538462
        ],
        [
         "Buttercup",
         "Mocha",
         1175.923076923077
        ],
        [
         "Buttercup",
         "Muffin",
         1496.923076923077
        ],
        [
         "Buttercup",
         "Nellie",
         1135.923076923077
        ],
        [
         "Buttercup",
         "Nutella",
         1161.1538461538462
        ],
        [
         "Buttercup",
         "Peaches",
         850.3846153846154
        ],
        [
         "Buttercup",
         "Popcorn",
         1282.923076923077
        ],
        [
         "Butterscotch",
         "Brandy",
         1107.6153846153845
        ],
        [
         "Butterscotch",
         "Buttercup",
         863.0
        ],
        [
         "Butterscotch",
         "Cocoa",
         1224.1538461538462
        ],
        [
         "Butterscotch",
         "Daisy",
         1649.6923076923076
        ],
        [
         "Butterscotch",
         "Dottie",
         899.5384615384615
        ],
        [
         "Butterscotch",
         "Hershey",
         925.0769230769231
        ],
        [
         "Butterscotch",
         "Magic",
         501.61538461538464
        ],
        [
         "Butterscotch",
         "Marshmallow",
         1155.2307692307693
        ],
        [
         "Butterscotch",
         "Mocha",
         1224.1538461538462
        ],
        [
         "Butterscotch",
         "Muffin",
         1413.6923076923076
        ],
        [
         "Butterscotch",
         "Nellie",
         1067.2307692307693
        ],
        [
         "Butterscotch",
         "Nutella",
         1057.6153846153845
        ],
        [
         "Butterscotch",
         "Peaches",
         397.3076923076923
        ],
        [
         "Butterscotch",
         "Popcorn",
         1194.076923076923
        ],
        [
         "Cocoa",
         "Brandy",
         1004.7692307692307
        ],
        [
         "Cocoa",
         "Buttercup",
         1175.923076923077
        ],
        [
         "Cocoa",
         "Butterscotch",
         1224.1538461538462
        ],
        [
         "Cocoa",
         "Daisy",
         1751.3846153846155
        ],
        [
         "Cocoa",
         "Dottie",
         1179.4615384615386
        ],
        [
         "Cocoa",
         "Hershey",
         1354.5384615384614
        ],
        [
         "Cocoa",
         "Magic",
         830.3076923076923
        ],
        [
         "Cocoa",
         "Marshmallow",
         1521.2307692307693
        ],
        [
         "Cocoa",
         "Mocha",
         1015.6153846153846
        ],
        [
         "Cocoa",
         "Muffin",
         1376.3076923076924
        ],
        [
         "Cocoa",
         "Nellie",
         1398.923076923077
        ],
        [
         "Cocoa",
         "Nutella",
         1204.8461538461538
        ],
        [
         "Cocoa",
         "Peaches",
         830.9230769230769
        ],
        [
         "Cocoa",
         "Popcorn",
         1370.0
        ],
        [
         "Daisy",
         "Brandy",
         1359.0
        ],
        [
         "Daisy",
         "Buttercup",
         1849.5384615384614
        ],
        [
         "Daisy",
         "Butterscotch",
         1649.6923076923076
        ],
        [
         "Daisy",
         "Cocoa",
         1751.3846153846155
        ],
        [
         "Daisy",
         "Dottie",
         1609.4615384615386
        ],
        [
         "Daisy",
         "Hershey",
         1663.5384615384614
        ],
        [
         "Daisy",
         "Magic",
         1440.1538461538462
        ],
        [
         "Daisy",
         "Marshmallow",
         1824.3846153846155
        ],
        [
         "Daisy",
         "Mocha",
         1751.3846153846155
        ],
        [
         "Daisy",
         "Muffin",
         1769.6153846153845
        ],
        [
         "Daisy",
         "Nellie",
         1918.923076923077
        ],
        [
         "Daisy",
         "Nutella",
         1439.6153846153845
        ],
        [
         "Daisy",
         "Peaches",
         1268.0
        ],
        [
         "Daisy",
         "Popcorn",
         1572.923076923077
        ],
        [
         "Dottie",
         "Brandy",
         1189.7692307692307
        ],
        [
         "Dottie",
         "Buttercup",
         1361.923076923077
        ],
        [
         "Dottie",
         "Butterscotch",
         899.5384615384615
        ],
        [
         "Dottie",
         "Cocoa",
         1179.4615384615386
        ],
        [
         "Dottie",
         "Daisy",
         1609.4615384615386
        ],
        [
         "Dottie",
         "Hershey",
         1375.3076923076924
        ],
        [
         "Dottie",
         "Magic",
         722.1538461538462
        ],
        [
         "Dottie",
         "Marshmallow",
         1342.5384615384614
        ],
        [
         "Dottie",
         "Mocha",
         1179.4615384615386
        ],
        [
         "Dottie",
         "Muffin",
         1322.3846153846155
        ],
        [
         "Dottie",
         "Nellie",
         1199.923076923077
        ],
        [
         "Dottie",
         "Nutella",
         1226.0
        ],
        [
         "Dottie",
         "Peaches",
         818.0
        ],
        [
         "Dottie",
         "Popcorn",
         1439.6923076923076
        ],
        [
         "Hershey",
         "Brandy",
         1103.0
        ],
        [
         "Hershey",
         "Buttercup",
         1499.5384615384614
        ],
        [
         "Hershey",
         "Butterscotch",
         925.0769230769231
        ],
        [
         "Hershey",
         "Cocoa",
         1354.5384615384614
        ],
        [
         "Hershey",
         "Daisy",
         1663.5384615384614
        ],
        [
         "Hershey",
         "Dottie",
         1375.3076923076924
        ],
        [
         "Hershey",
         "Magic",
         1291.6923076923076
        ],
        [
         "Hershey",
         "Marshmallow",
         1382.3846153846155
        ],
        [
         "Hershey",
         "Mocha",
         1354.5384615384614
        ],
        [
         "Hershey",
         "Muffin",
         1580.8461538461538
        ],
        [
         "Hershey",
         "Nellie",
         1201.076923076923
        ],
        [
         "Hershey",
         "Nutella",
         1283.4615384615386
        ],
        [
         "Hershey",
         "Peaches",
         764.4615384615385
        ],
        [
         "Hershey",
         "Popcorn",
         1427.3076923076924
        ],
        [
         "Magic",
         "Brandy",
         789.2307692307693
        ],
        [
         "Magic",
         "Buttercup",
         959.7692307692307
        ],
        [
         "Magic",
         "Butterscotch",
         501.61538461538464
        ],
        [
         "Magic",
         "Cocoa",
         830.3076923076923
        ],
        [
         "Magic",
         "Daisy",
         1440.1538461538462
        ],
        [
         "Magic",
         "Dottie",
         722.1538461538462
        ],
        [
         "Magic",
         "Hershey",
         1291.6923076923076
        ],
        [
         "Magic",
         "Marshmallow",
         1128.923076923077
        ],
        [
         "Magic",
         "Mocha",
         830.3076923076923
        ],
        [
         "Magic",
         "Muffin",
         1164.6153846153845
        ],
        [
         "Magic",
         "Nellie",
         708.1538461538462
        ],
        [
         "Magic",
         "Nutella",
         779.6923076923077
        ],
        [
         "Magic",
         "Peaches",
         285.2307692307692
        ],
        [
         "Magic",
         "Popcorn",
         1165.5384615384614
        ],
        [
         "Marshmallow",
         "Brandy",
         1120.3076923076924
        ],
        [
         "Marshmallow",
         "Buttercup",
         1603.1538461538462
        ],
        [
         "Marshmallow",
         "Butterscotch",
         1155.2307692307693
        ],
        [
         "Marshmallow",
         "Cocoa",
         1521.2307692307693
        ],
        [
         "Marshmallow",
         "Daisy",
         1824.3846153846155
        ],
        [
         "Marshmallow",
         "Dottie",
         1342.5384615384614
        ],
        [
         "Marshmallow",
         "Hershey",
         1382.3846153846155
        ],
        [
         "Marshmallow",
         "Magic",
         1128.923076923077
        ],
        [
         "Marshmallow",
         "Mocha",
         1521.2307692307693
        ],
        [
         "Marshmallow",
         "Muffin",
         1722.0
        ],
        [
         "Marshmallow",
         "Nellie",
         1593.1538461538462
        ],
        [
         "Marshmallow",
         "Nutella",
         1436.2307692307693
        ],
        [
         "Marshmallow",
         "Peaches",
         1204.2307692307693
        ],
        [
         "Marshmallow",
         "Popcorn",
         1647.4615384615386
        ],
        [
         "Mocha",
         "Brandy",
         1004.7692307692307
        ],
        [
         "Mocha",
         "Buttercup",
         1175.923076923077
        ],
        [
         "Mocha",
         "Butterscotch",
         1224.1538461538462
        ],
        [
         "Mocha",
         "Cocoa",
         1015.6153846153846
        ],
        [
         "Mocha",
         "Daisy",
         1751.3846153846155
        ],
        [
         "Mocha",
         "Dottie",
         1179.4615384615386
        ],
        [
         "Mocha",
         "Hershey",
         1354.5384615384614
        ],
        [
         "Mocha",
         "Magic",
         830.3076923076923
        ],
        [
         "Mocha",
         "Marshmallow",
         1521.2307692307693
        ],
        [
         "Mocha",
         "Muffin",
         1376.3076923076924
        ],
        [
         "Mocha",
         "Nellie",
         1398.923076923077
        ],
        [
         "Mocha",
         "Nutella",
         1204.8461538461538
        ],
        [
         "Mocha",
         "Peaches",
         830.9230769230769
        ],
        [
         "Mocha",
         "Popcorn",
         1370.0
        ],
        [
         "Muffin",
         "Brandy",
         1291.0
        ],
        [
         "Muffin",
         "Buttercup",
         1496.923076923077
        ],
        [
         "Muffin",
         "Butterscotch",
         1413.6923076923076
        ],
        [
         "Muffin",
         "Cocoa",
         1376.3076923076924
        ],
        [
         "Muffin",
         "Daisy",
         1769.6153846153845
        ],
        [
         "Muffin",
         "Dottie",
         1322.3846153846155
        ],
        [
         "Muffin",
         "Hershey",
         1580.8461538461538
        ],
        [
         "Muffin",
         "Magic",
         1164.6153846153845
        ],
        [
         "Muffin",
         "Marshmallow",
         1722.0
        ],
        [
         "Muffin",
         "Mocha",
         1376.3076923076924
        ],
        [
         "Muffin",
         "Nellie",
         1580.3846153846155
        ],
        [
         "Muffin",
         "Nutella",
         1511.1538461538462
        ],
        [
         "Muffin",
         "Peaches",
         803.0769230769231
        ],
        [
         "Muffin",
         "Popcorn",
         1291.1538461538462
        ],
        [
         "Nellie",
         "Brandy",
         986.0
        ],
        [
         "Nellie",
         "Buttercup",
         1135.923076923077
        ],
        [
         "Nellie",
         "Butterscotch",
         1067.2307692307693
        ],
        [
         "Nellie",
         "Cocoa",
         1398.923076923077
        ],
        [
         "Nellie",
         "Daisy",
         1918.923076923077
        ],
        [
         "Nellie",
         "Dottie",
         1199.923076923077
        ],
        [
         "Nellie",
         "Hershey",
         1201.076923076923
        ],
        [
         "Nellie",
         "Magic",
         708.1538461538462
        ],
        [
         "Nellie",
         "Marshmallow",
         1593.1538461538462
        ],
        [
         "Nellie",
         "Mocha",
         1398.923076923077
        ],
        [
         "Nellie",
         "Muffin",
         1580.3846153846155
        ],
        [
         "Nellie",
         "Nutella",
         1137.0
        ],
        [
         "Nellie",
         "Peaches",
         836.1538461538462
        ],
        [
         "Nellie",
         "Popcorn",
         1413.4615384615386
        ],
        [
         "Nutella",
         "Brandy",
         1034.923076923077
        ],
        [
         "Nutella",
         "Buttercup",
         1161.1538461538462
        ],
        [
         "Nutella",
         "Butterscotch",
         1057.6153846153845
        ],
        [
         "Nutella",
         "Cocoa",
         1204.8461538461538
        ],
        [
         "Nutella",
         "Daisy",
         1439.6153846153845
        ],
        [
         "Nutella",
         "Dottie",
         1226.0
        ],
        [
         "Nutella",
         "Hershey",
         1283.4615384615386
        ],
        [
         "Nutella",
         "Magic",
         779.6923076923077
        ],
        [
         "Nutella",
         "Marshmallow",
         1436.2307692307693
        ],
        [
         "Nutella",
         "Mocha",
         1204.8461538461538
        ],
        [
         "Nutella",
         "Muffin",
         1511.1538461538462
        ],
        [
         "Nutella",
         "Nellie",
         1137.0
        ],
        [
         "Nutella",
         "Peaches",
         765.3846153846154
        ],
        [
         "Nutella",
         "Popcorn",
         1154.2307692307693
        ],
        [
         "Peaches",
         "Brandy",
         1016.8461538461538
        ],
        [
         "Peaches",
         "Buttercup",
         850.3846153846154
        ],
        [
         "Peaches",
         "Butterscotch",
         397.3076923076923
        ],
        [
         "Peaches",
         "Cocoa",
         830.9230769230769
        ],
        [
         "Peaches",
         "Daisy",
         1268.0
        ],
        [
         "Peaches",
         "Dottie",
         818.0
        ],
        [
         "Peaches",
         "Hershey",
         764.4615384615385
        ],
        [
         "Peaches",
         "Magic",
         285.2307692307692
        ],
        [
         "Peaches",
         "Marshmallow",
         1204.2307692307693
        ],
        [
         "Peaches",
         "Mocha",
         830.9230769230769
        ],
        [
         "Peaches",
         "Muffin",
         803.0769230769231
        ],
        [
         "Peaches",
         "Nellie",
         836.1538461538462
        ],
        [
         "Peaches",
         "Nutella",
         765.3846153846154
        ],
        [
         "Peaches",
         "Popcorn",
         929.9230769230769
        ],
        [
         "Popcorn",
         "Brandy",
         1194.3076923076924
        ],
        [
         "Popcorn",
         "Buttercup",
         1282.923076923077
        ],
        [
         "Popcorn",
         "Butterscotch",
         1194.076923076923
        ],
        [
         "Popcorn",
         "Cocoa",
         1370.0
        ],
        [
         "Popcorn",
         "Daisy",
         1572.923076923077
        ],
        [
         "Popcorn",
         "Dottie",
         1439.6923076923076
        ],
        [
         "Popcorn",
         "Hershey",
         1427.3076923076924
        ],
        [
         "Popcorn",
         "Magic",
         1165.5384615384614
        ],
        [
         "Popcorn",
         "Marshmallow",
         1647.4615384615386
        ],
        [
         "Popcorn",
         "Mocha",
         1370.0
        ],
        [
         "Popcorn",
         "Muffin",
         1291.1538461538462
        ],
        [
         "Popcorn",
         "Nellie",
         1413.4615384615386
        ],
        [
         "Popcorn",
         "Nutella",
         1154.2307692307693
        ],
        [
         "Popcorn",
         "Peaches",
         929.9230769230769
        ]
       ],
       "datasetInfos": [],
       "dbfsResultPath": null,
       "isJsonSchema": true,
       "metadata": {},
       "overflow": false,
       "plotOptions": {
        "customPlotOptions": {},
        "displayType": "table",
        "pivotAggregation": null,
        "pivotColumns": null,
        "xColumns": null,
        "yColumns": null
       },
       "removedWidgets": [],
       "schema": [
        {
         "metadata": "{}",
         "name": "cow1",
         "type": "\"string\""
        },
        {
         "metadata": "{}",
         "name": "cow2",
         "type": "\"string\""
        },
        {
         "metadata": "{}",
         "name": "distance",
         "type": "\"double\""
        }
       ],
       "type": "table"
      }
     },
     "output_type": "display_data"
    }
   ],
   "source": [
    "display(df)"
   ]
  },
  {
   "cell_type": "code",
   "execution_count": 0,
   "metadata": {
    "application/vnd.databricks.v1+cell": {
     "cellMetadata": {},
     "inputWidgets": {},
     "nuid": "eb42dbd8-9774-489b-a92d-a62d407b336b",
     "showTitle": false,
     "title": ""
    }
   },
   "outputs": [],
   "source": []
  }
 ],
 "metadata": {
  "application/vnd.databricks.v1+notebook": {
   "dashboards": [],
   "environmentMetadata": null,
   "language": "python",
   "notebookMetadata": {
    "mostRecentlyExecutedCommandWithImplicitDF": {
     "commandId": 1024381266358228,
     "dataframes": [
      "_sqldf"
     ]
    },
    "pythonIndentUnit": 2
   },
   "notebookName": "Cow BFF",
   "widgets": {}
  },
  "kernelspec": {
   "display_name": ".venv",
   "language": "python",
   "name": "python3"
  },
  "language_info": {
   "codemirror_mode": {
    "name": "ipython",
    "version": 3
   },
   "file_extension": ".py",
   "mimetype": "text/x-python",
   "name": "python",
   "nbconvert_exporter": "python",
   "pygments_lexer": "ipython3",
   "version": "3.10.11"
  }
 },
 "nbformat": 4,
 "nbformat_minor": 0
}
